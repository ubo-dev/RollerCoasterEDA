{
 "cells": [
  {
   "cell_type": "code",
   "execution_count": 253,
   "id": "5b5db9af",
   "metadata": {},
   "outputs": [],
   "source": [
    "#liabriers\n",
    "import pandas as pd\n",
    "import numpy as np\n",
    "import matplotlib.pylab as plt\n",
    "import seaborn as sns\n",
    "import plotly.express as px\n",
    "\n",
    "#options \n",
    "plt.style.use('ggplot')\n",
    "pd.set_option('display.max_columns',200)"
   ]
  },
  {
   "cell_type": "code",
   "execution_count": 254,
   "id": "7c46da80",
   "metadata": {},
   "outputs": [],
   "source": [
    "#reading the data\n",
    "df = pd.read_csv('data\\\\coaster_db.csv')"
   ]
  },
  {
   "cell_type": "code",
   "execution_count": 255,
   "id": "e5f21d76",
   "metadata": {},
   "outputs": [
    {
     "data": {
      "text/plain": [
       "(1087, 56)"
      ]
     },
     "execution_count": 255,
     "metadata": {},
     "output_type": "execute_result"
    }
   ],
   "source": [
    "df.shape\n",
    "#we have 1087 rows and 56 columns in our dataset."
   ]
  },
  {
   "cell_type": "code",
   "execution_count": 256,
   "id": "965f180f",
   "metadata": {},
   "outputs": [
    {
     "data": {
      "text/html": [
       "<div>\n",
       "<style scoped>\n",
       "    .dataframe tbody tr th:only-of-type {\n",
       "        vertical-align: middle;\n",
       "    }\n",
       "\n",
       "    .dataframe tbody tr th {\n",
       "        vertical-align: top;\n",
       "    }\n",
       "\n",
       "    .dataframe thead th {\n",
       "        text-align: right;\n",
       "    }\n",
       "</style>\n",
       "<table border=\"1\" class=\"dataframe\">\n",
       "  <thead>\n",
       "    <tr style=\"text-align: right;\">\n",
       "      <th></th>\n",
       "      <th>coaster_name</th>\n",
       "      <th>Length</th>\n",
       "      <th>Speed</th>\n",
       "      <th>Location</th>\n",
       "      <th>Status</th>\n",
       "      <th>Opening date</th>\n",
       "      <th>Type</th>\n",
       "      <th>Manufacturer</th>\n",
       "      <th>Height restriction</th>\n",
       "      <th>Model</th>\n",
       "      <th>Height</th>\n",
       "      <th>Inversions</th>\n",
       "      <th>Lift/launch system</th>\n",
       "      <th>Cost</th>\n",
       "      <th>Trains</th>\n",
       "      <th>Park section</th>\n",
       "      <th>Duration</th>\n",
       "      <th>Capacity</th>\n",
       "      <th>G-force</th>\n",
       "      <th>Designer</th>\n",
       "      <th>Max vertical angle</th>\n",
       "      <th>Drop</th>\n",
       "      <th>Soft opening date</th>\n",
       "      <th>Fast Lane available</th>\n",
       "      <th>Replaced</th>\n",
       "      <th>Track layout</th>\n",
       "      <th>Fastrack available</th>\n",
       "      <th>Soft opening date.1</th>\n",
       "      <th>Closing date</th>\n",
       "      <th>Opened</th>\n",
       "      <th>Replaced by</th>\n",
       "      <th>Website</th>\n",
       "      <th>Flash Pass Available</th>\n",
       "      <th>Must transfer from wheelchair</th>\n",
       "      <th>Theme</th>\n",
       "      <th>Single rider line available</th>\n",
       "      <th>Restraint Style</th>\n",
       "      <th>Flash Pass available</th>\n",
       "      <th>Acceleration</th>\n",
       "      <th>Restraints</th>\n",
       "      <th>Name</th>\n",
       "      <th>year_introduced</th>\n",
       "      <th>latitude</th>\n",
       "      <th>longitude</th>\n",
       "      <th>Type_Main</th>\n",
       "      <th>opening_date_clean</th>\n",
       "      <th>speed1</th>\n",
       "      <th>speed2</th>\n",
       "      <th>speed1_value</th>\n",
       "      <th>speed1_unit</th>\n",
       "      <th>speed_mph</th>\n",
       "      <th>height_value</th>\n",
       "      <th>height_unit</th>\n",
       "      <th>height_ft</th>\n",
       "      <th>Inversions_clean</th>\n",
       "      <th>Gforce_clean</th>\n",
       "    </tr>\n",
       "  </thead>\n",
       "  <tbody>\n",
       "    <tr>\n",
       "      <th>0</th>\n",
       "      <td>Switchback Railway</td>\n",
       "      <td>600 ft (180 m)</td>\n",
       "      <td>6 mph (9.7 km/h)</td>\n",
       "      <td>Coney Island</td>\n",
       "      <td>Removed</td>\n",
       "      <td>June 16, 1884</td>\n",
       "      <td>Wood</td>\n",
       "      <td>LaMarcus Adna Thompson</td>\n",
       "      <td>NaN</td>\n",
       "      <td>Lift Packed</td>\n",
       "      <td>50 ft (15 m)</td>\n",
       "      <td>NaN</td>\n",
       "      <td>gravity</td>\n",
       "      <td>NaN</td>\n",
       "      <td>NaN</td>\n",
       "      <td>Coney Island Cyclone Site</td>\n",
       "      <td>1:00</td>\n",
       "      <td>1600 riders per hour</td>\n",
       "      <td>2.9</td>\n",
       "      <td>LaMarcus Adna Thompson</td>\n",
       "      <td>30°</td>\n",
       "      <td>43 ft (13 m)</td>\n",
       "      <td>NaN</td>\n",
       "      <td>NaN</td>\n",
       "      <td>NaN</td>\n",
       "      <td>Gravity pulled coaster</td>\n",
       "      <td>NaN</td>\n",
       "      <td>NaN</td>\n",
       "      <td>NaN</td>\n",
       "      <td>NaN</td>\n",
       "      <td>NaN</td>\n",
       "      <td>NaN</td>\n",
       "      <td>NaN</td>\n",
       "      <td>NaN</td>\n",
       "      <td>NaN</td>\n",
       "      <td>NaN</td>\n",
       "      <td>NaN</td>\n",
       "      <td>NaN</td>\n",
       "      <td>NaN</td>\n",
       "      <td>NaN</td>\n",
       "      <td>NaN</td>\n",
       "      <td>1884</td>\n",
       "      <td>40.5740</td>\n",
       "      <td>-73.9780</td>\n",
       "      <td>Wood</td>\n",
       "      <td>1884-06-16</td>\n",
       "      <td>6 mph</td>\n",
       "      <td>9.7 km/h</td>\n",
       "      <td>6.0</td>\n",
       "      <td>mph</td>\n",
       "      <td>6.0</td>\n",
       "      <td>50.0</td>\n",
       "      <td>ft</td>\n",
       "      <td>NaN</td>\n",
       "      <td>0</td>\n",
       "      <td>2.9</td>\n",
       "    </tr>\n",
       "    <tr>\n",
       "      <th>1</th>\n",
       "      <td>Flip Flap Railway</td>\n",
       "      <td>NaN</td>\n",
       "      <td>NaN</td>\n",
       "      <td>Sea Lion Park</td>\n",
       "      <td>Removed</td>\n",
       "      <td>1895</td>\n",
       "      <td>Wood</td>\n",
       "      <td>Lina Beecher</td>\n",
       "      <td>NaN</td>\n",
       "      <td>NaN</td>\n",
       "      <td>NaN</td>\n",
       "      <td>1.0</td>\n",
       "      <td>NaN</td>\n",
       "      <td>NaN</td>\n",
       "      <td>a single car. Riders are arranged 1 across in ...</td>\n",
       "      <td>NaN</td>\n",
       "      <td>NaN</td>\n",
       "      <td>NaN</td>\n",
       "      <td>12</td>\n",
       "      <td>Lina Beecher</td>\n",
       "      <td>NaN</td>\n",
       "      <td>NaN</td>\n",
       "      <td>NaN</td>\n",
       "      <td>NaN</td>\n",
       "      <td>NaN</td>\n",
       "      <td>NaN</td>\n",
       "      <td>NaN</td>\n",
       "      <td>NaN</td>\n",
       "      <td>1902</td>\n",
       "      <td>NaN</td>\n",
       "      <td>NaN</td>\n",
       "      <td>NaN</td>\n",
       "      <td>NaN</td>\n",
       "      <td>NaN</td>\n",
       "      <td>NaN</td>\n",
       "      <td>NaN</td>\n",
       "      <td>NaN</td>\n",
       "      <td>NaN</td>\n",
       "      <td>NaN</td>\n",
       "      <td>NaN</td>\n",
       "      <td>NaN</td>\n",
       "      <td>1895</td>\n",
       "      <td>40.5780</td>\n",
       "      <td>-73.9790</td>\n",
       "      <td>Wood</td>\n",
       "      <td>1895-01-01</td>\n",
       "      <td>NaN</td>\n",
       "      <td>NaN</td>\n",
       "      <td>NaN</td>\n",
       "      <td>NaN</td>\n",
       "      <td>NaN</td>\n",
       "      <td>NaN</td>\n",
       "      <td>NaN</td>\n",
       "      <td>NaN</td>\n",
       "      <td>1</td>\n",
       "      <td>12.0</td>\n",
       "    </tr>\n",
       "    <tr>\n",
       "      <th>2</th>\n",
       "      <td>Switchback Railway (Euclid Beach Park)</td>\n",
       "      <td>NaN</td>\n",
       "      <td>NaN</td>\n",
       "      <td>Cleveland, Ohio, United States</td>\n",
       "      <td>Closed</td>\n",
       "      <td>NaN</td>\n",
       "      <td>Other</td>\n",
       "      <td>NaN</td>\n",
       "      <td>NaN</td>\n",
       "      <td>NaN</td>\n",
       "      <td>NaN</td>\n",
       "      <td>NaN</td>\n",
       "      <td>NaN</td>\n",
       "      <td>NaN</td>\n",
       "      <td>NaN</td>\n",
       "      <td>NaN</td>\n",
       "      <td>NaN</td>\n",
       "      <td>NaN</td>\n",
       "      <td>NaN</td>\n",
       "      <td>NaN</td>\n",
       "      <td>NaN</td>\n",
       "      <td>NaN</td>\n",
       "      <td>NaN</td>\n",
       "      <td>NaN</td>\n",
       "      <td>NaN</td>\n",
       "      <td>NaN</td>\n",
       "      <td>NaN</td>\n",
       "      <td>NaN</td>\n",
       "      <td>NaN</td>\n",
       "      <td>1895</td>\n",
       "      <td>NaN</td>\n",
       "      <td>NaN</td>\n",
       "      <td>NaN</td>\n",
       "      <td>NaN</td>\n",
       "      <td>NaN</td>\n",
       "      <td>NaN</td>\n",
       "      <td>NaN</td>\n",
       "      <td>NaN</td>\n",
       "      <td>NaN</td>\n",
       "      <td>NaN</td>\n",
       "      <td>NaN</td>\n",
       "      <td>1896</td>\n",
       "      <td>41.5800</td>\n",
       "      <td>-81.5700</td>\n",
       "      <td>Other</td>\n",
       "      <td>NaN</td>\n",
       "      <td>NaN</td>\n",
       "      <td>NaN</td>\n",
       "      <td>NaN</td>\n",
       "      <td>NaN</td>\n",
       "      <td>NaN</td>\n",
       "      <td>NaN</td>\n",
       "      <td>NaN</td>\n",
       "      <td>NaN</td>\n",
       "      <td>0</td>\n",
       "      <td>NaN</td>\n",
       "    </tr>\n",
       "    <tr>\n",
       "      <th>3</th>\n",
       "      <td>Loop the Loop (Coney Island)</td>\n",
       "      <td>NaN</td>\n",
       "      <td>NaN</td>\n",
       "      <td>Other</td>\n",
       "      <td>Removed</td>\n",
       "      <td>1901</td>\n",
       "      <td>Steel</td>\n",
       "      <td>Edwin Prescott</td>\n",
       "      <td>NaN</td>\n",
       "      <td>NaN</td>\n",
       "      <td>NaN</td>\n",
       "      <td>1.0</td>\n",
       "      <td>NaN</td>\n",
       "      <td>NaN</td>\n",
       "      <td>a single car. Riders are arranged 2 across in ...</td>\n",
       "      <td>NaN</td>\n",
       "      <td>NaN</td>\n",
       "      <td>NaN</td>\n",
       "      <td>NaN</td>\n",
       "      <td>Edward A. Green</td>\n",
       "      <td>NaN</td>\n",
       "      <td>NaN</td>\n",
       "      <td>NaN</td>\n",
       "      <td>NaN</td>\n",
       "      <td>Switchback Railway</td>\n",
       "      <td>NaN</td>\n",
       "      <td>NaN</td>\n",
       "      <td>NaN</td>\n",
       "      <td>1910</td>\n",
       "      <td>NaN</td>\n",
       "      <td>Giant Racer</td>\n",
       "      <td>NaN</td>\n",
       "      <td>NaN</td>\n",
       "      <td>NaN</td>\n",
       "      <td>NaN</td>\n",
       "      <td>NaN</td>\n",
       "      <td>NaN</td>\n",
       "      <td>NaN</td>\n",
       "      <td>NaN</td>\n",
       "      <td>NaN</td>\n",
       "      <td>NaN</td>\n",
       "      <td>1901</td>\n",
       "      <td>40.5745</td>\n",
       "      <td>-73.9780</td>\n",
       "      <td>Steel</td>\n",
       "      <td>1901-01-01</td>\n",
       "      <td>NaN</td>\n",
       "      <td>NaN</td>\n",
       "      <td>NaN</td>\n",
       "      <td>NaN</td>\n",
       "      <td>NaN</td>\n",
       "      <td>NaN</td>\n",
       "      <td>NaN</td>\n",
       "      <td>NaN</td>\n",
       "      <td>1</td>\n",
       "      <td>NaN</td>\n",
       "    </tr>\n",
       "    <tr>\n",
       "      <th>4</th>\n",
       "      <td>Loop the Loop (Young's Pier)</td>\n",
       "      <td>NaN</td>\n",
       "      <td>NaN</td>\n",
       "      <td>Other</td>\n",
       "      <td>Removed</td>\n",
       "      <td>1901</td>\n",
       "      <td>Steel</td>\n",
       "      <td>Edwin Prescott</td>\n",
       "      <td>NaN</td>\n",
       "      <td>NaN</td>\n",
       "      <td>NaN</td>\n",
       "      <td>1.0</td>\n",
       "      <td>NaN</td>\n",
       "      <td>NaN</td>\n",
       "      <td>NaN</td>\n",
       "      <td>NaN</td>\n",
       "      <td>NaN</td>\n",
       "      <td>NaN</td>\n",
       "      <td>NaN</td>\n",
       "      <td>Edward A. Green</td>\n",
       "      <td>NaN</td>\n",
       "      <td>NaN</td>\n",
       "      <td>NaN</td>\n",
       "      <td>NaN</td>\n",
       "      <td>NaN</td>\n",
       "      <td>NaN</td>\n",
       "      <td>NaN</td>\n",
       "      <td>NaN</td>\n",
       "      <td>1912</td>\n",
       "      <td>NaN</td>\n",
       "      <td>NaN</td>\n",
       "      <td>NaN</td>\n",
       "      <td>NaN</td>\n",
       "      <td>NaN</td>\n",
       "      <td>NaN</td>\n",
       "      <td>NaN</td>\n",
       "      <td>NaN</td>\n",
       "      <td>NaN</td>\n",
       "      <td>NaN</td>\n",
       "      <td>NaN</td>\n",
       "      <td>NaN</td>\n",
       "      <td>1901</td>\n",
       "      <td>39.3538</td>\n",
       "      <td>-74.4342</td>\n",
       "      <td>Steel</td>\n",
       "      <td>1901-01-01</td>\n",
       "      <td>NaN</td>\n",
       "      <td>NaN</td>\n",
       "      <td>NaN</td>\n",
       "      <td>NaN</td>\n",
       "      <td>NaN</td>\n",
       "      <td>NaN</td>\n",
       "      <td>NaN</td>\n",
       "      <td>NaN</td>\n",
       "      <td>1</td>\n",
       "      <td>NaN</td>\n",
       "    </tr>\n",
       "  </tbody>\n",
       "</table>\n",
       "</div>"
      ],
      "text/plain": [
       "                             coaster_name          Length             Speed  \\\n",
       "0                      Switchback Railway  600 ft (180 m)  6 mph (9.7 km/h)   \n",
       "1                       Flip Flap Railway             NaN               NaN   \n",
       "2  Switchback Railway (Euclid Beach Park)             NaN               NaN   \n",
       "3            Loop the Loop (Coney Island)             NaN               NaN   \n",
       "4            Loop the Loop (Young's Pier)             NaN               NaN   \n",
       "\n",
       "                         Location   Status   Opening date   Type  \\\n",
       "0                    Coney Island  Removed  June 16, 1884   Wood   \n",
       "1                   Sea Lion Park  Removed           1895   Wood   \n",
       "2  Cleveland, Ohio, United States   Closed            NaN  Other   \n",
       "3                           Other  Removed           1901  Steel   \n",
       "4                           Other  Removed           1901  Steel   \n",
       "\n",
       "             Manufacturer Height restriction        Model        Height  \\\n",
       "0  LaMarcus Adna Thompson                NaN  Lift Packed  50 ft (15 m)   \n",
       "1            Lina Beecher                NaN          NaN           NaN   \n",
       "2                     NaN                NaN          NaN           NaN   \n",
       "3          Edwin Prescott                NaN          NaN           NaN   \n",
       "4          Edwin Prescott                NaN          NaN           NaN   \n",
       "\n",
       "   Inversions Lift/launch system Cost  \\\n",
       "0         NaN            gravity  NaN   \n",
       "1         1.0                NaN  NaN   \n",
       "2         NaN                NaN  NaN   \n",
       "3         1.0                NaN  NaN   \n",
       "4         1.0                NaN  NaN   \n",
       "\n",
       "                                              Trains  \\\n",
       "0                                                NaN   \n",
       "1  a single car. Riders are arranged 1 across in ...   \n",
       "2                                                NaN   \n",
       "3  a single car. Riders are arranged 2 across in ...   \n",
       "4                                                NaN   \n",
       "\n",
       "                Park section Duration              Capacity G-force  \\\n",
       "0  Coney Island Cyclone Site     1:00  1600 riders per hour     2.9   \n",
       "1                        NaN      NaN                   NaN      12   \n",
       "2                        NaN      NaN                   NaN     NaN   \n",
       "3                        NaN      NaN                   NaN     NaN   \n",
       "4                        NaN      NaN                   NaN     NaN   \n",
       "\n",
       "                 Designer Max vertical angle          Drop Soft opening date  \\\n",
       "0  LaMarcus Adna Thompson                30°  43 ft (13 m)               NaN   \n",
       "1            Lina Beecher                NaN           NaN               NaN   \n",
       "2                     NaN                NaN           NaN               NaN   \n",
       "3         Edward A. Green                NaN           NaN               NaN   \n",
       "4         Edward A. Green                NaN           NaN               NaN   \n",
       "\n",
       "  Fast Lane available            Replaced            Track layout  \\\n",
       "0                 NaN                 NaN  Gravity pulled coaster   \n",
       "1                 NaN                 NaN                     NaN   \n",
       "2                 NaN                 NaN                     NaN   \n",
       "3                 NaN  Switchback Railway                     NaN   \n",
       "4                 NaN                 NaN                     NaN   \n",
       "\n",
       "  Fastrack available Soft opening date.1 Closing date Opened  Replaced by  \\\n",
       "0                NaN                 NaN          NaN    NaN          NaN   \n",
       "1                NaN                 NaN         1902    NaN          NaN   \n",
       "2                NaN                 NaN          NaN   1895          NaN   \n",
       "3                NaN                 NaN         1910    NaN  Giant Racer   \n",
       "4                NaN                 NaN         1912    NaN          NaN   \n",
       "\n",
       "  Website Flash Pass Available Must transfer from wheelchair Theme  \\\n",
       "0     NaN                  NaN                           NaN   NaN   \n",
       "1     NaN                  NaN                           NaN   NaN   \n",
       "2     NaN                  NaN                           NaN   NaN   \n",
       "3     NaN                  NaN                           NaN   NaN   \n",
       "4     NaN                  NaN                           NaN   NaN   \n",
       "\n",
       "  Single rider line available Restraint Style Flash Pass available  \\\n",
       "0                         NaN             NaN                  NaN   \n",
       "1                         NaN             NaN                  NaN   \n",
       "2                         NaN             NaN                  NaN   \n",
       "3                         NaN             NaN                  NaN   \n",
       "4                         NaN             NaN                  NaN   \n",
       "\n",
       "  Acceleration Restraints Name  year_introduced  latitude  longitude  \\\n",
       "0          NaN        NaN  NaN             1884   40.5740   -73.9780   \n",
       "1          NaN        NaN  NaN             1895   40.5780   -73.9790   \n",
       "2          NaN        NaN  NaN             1896   41.5800   -81.5700   \n",
       "3          NaN        NaN  NaN             1901   40.5745   -73.9780   \n",
       "4          NaN        NaN  NaN             1901   39.3538   -74.4342   \n",
       "\n",
       "  Type_Main opening_date_clean  speed1    speed2  speed1_value speed1_unit  \\\n",
       "0      Wood         1884-06-16  6 mph   9.7 km/h           6.0         mph   \n",
       "1      Wood         1895-01-01     NaN       NaN           NaN         NaN   \n",
       "2     Other                NaN     NaN       NaN           NaN         NaN   \n",
       "3     Steel         1901-01-01     NaN       NaN           NaN         NaN   \n",
       "4     Steel         1901-01-01     NaN       NaN           NaN         NaN   \n",
       "\n",
       "   speed_mph  height_value height_unit  height_ft  Inversions_clean  \\\n",
       "0        6.0          50.0          ft        NaN                 0   \n",
       "1        NaN           NaN         NaN        NaN                 1   \n",
       "2        NaN           NaN         NaN        NaN                 0   \n",
       "3        NaN           NaN         NaN        NaN                 1   \n",
       "4        NaN           NaN         NaN        NaN                 1   \n",
       "\n",
       "   Gforce_clean  \n",
       "0           2.9  \n",
       "1          12.0  \n",
       "2           NaN  \n",
       "3           NaN  \n",
       "4           NaN  "
      ]
     },
     "execution_count": 256,
     "metadata": {},
     "output_type": "execute_result"
    }
   ],
   "source": [
    "#first 5 rows in out data. head(5) is the default value if we don't initialize new parameter.\n",
    "df.head()"
   ]
  },
  {
   "cell_type": "code",
   "execution_count": 257,
   "id": "a890f321",
   "metadata": {},
   "outputs": [
    {
     "data": {
      "text/plain": [
       "Index(['coaster_name', 'Length', 'Speed', 'Location', 'Status', 'Opening date',\n",
       "       'Type', 'Manufacturer', 'Height restriction', 'Model', 'Height',\n",
       "       'Inversions', 'Lift/launch system', 'Cost', 'Trains', 'Park section',\n",
       "       'Duration', 'Capacity', 'G-force', 'Designer', 'Max vertical angle',\n",
       "       'Drop', 'Soft opening date', 'Fast Lane available', 'Replaced',\n",
       "       'Track layout', 'Fastrack available', 'Soft opening date.1',\n",
       "       'Closing date', 'Opened', 'Replaced by', 'Website',\n",
       "       'Flash Pass Available', 'Must transfer from wheelchair', 'Theme',\n",
       "       'Single rider line available', 'Restraint Style',\n",
       "       'Flash Pass available', 'Acceleration', 'Restraints', 'Name',\n",
       "       'year_introduced', 'latitude', 'longitude', 'Type_Main',\n",
       "       'opening_date_clean', 'speed1', 'speed2', 'speed1_value', 'speed1_unit',\n",
       "       'speed_mph', 'height_value', 'height_unit', 'height_ft',\n",
       "       'Inversions_clean', 'Gforce_clean'],\n",
       "      dtype='object')"
      ]
     },
     "execution_count": 257,
     "metadata": {},
     "output_type": "execute_result"
    }
   ],
   "source": [
    "df.columns"
   ]
  },
  {
   "cell_type": "code",
   "execution_count": 258,
   "id": "a626dcaf",
   "metadata": {},
   "outputs": [
    {
     "data": {
      "text/plain": [
       "coaster_name                      object\n",
       "Length                            object\n",
       "Speed                             object\n",
       "Location                          object\n",
       "Status                            object\n",
       "Opening date                      object\n",
       "Type                              object\n",
       "Manufacturer                      object\n",
       "Height restriction                object\n",
       "Model                             object\n",
       "Height                            object\n",
       "Inversions                       float64\n",
       "Lift/launch system                object\n",
       "Cost                              object\n",
       "Trains                            object\n",
       "Park section                      object\n",
       "Duration                          object\n",
       "Capacity                          object\n",
       "G-force                           object\n",
       "Designer                          object\n",
       "Max vertical angle                object\n",
       "Drop                              object\n",
       "Soft opening date                 object\n",
       "Fast Lane available               object\n",
       "Replaced                          object\n",
       "Track layout                      object\n",
       "Fastrack available                object\n",
       "Soft opening date.1               object\n",
       "Closing date                      object\n",
       "Opened                            object\n",
       "Replaced by                       object\n",
       "Website                           object\n",
       "Flash Pass Available              object\n",
       "Must transfer from wheelchair     object\n",
       "Theme                             object\n",
       "Single rider line available       object\n",
       "Restraint Style                   object\n",
       "Flash Pass available              object\n",
       "Acceleration                      object\n",
       "Restraints                        object\n",
       "Name                              object\n",
       "year_introduced                    int64\n",
       "latitude                         float64\n",
       "longitude                        float64\n",
       "Type_Main                         object\n",
       "opening_date_clean                object\n",
       "speed1                            object\n",
       "speed2                            object\n",
       "speed1_value                     float64\n",
       "speed1_unit                       object\n",
       "speed_mph                        float64\n",
       "height_value                     float64\n",
       "height_unit                       object\n",
       "height_ft                        float64\n",
       "Inversions_clean                   int64\n",
       "Gforce_clean                     float64\n",
       "dtype: object"
      ]
     },
     "execution_count": 258,
     "metadata": {},
     "output_type": "execute_result"
    }
   ],
   "source": [
    "df.dtypes"
   ]
  },
  {
   "cell_type": "code",
   "execution_count": 259,
   "id": "5e3ba9d8",
   "metadata": {},
   "outputs": [
    {
     "data": {
      "text/html": [
       "<div>\n",
       "<style scoped>\n",
       "    .dataframe tbody tr th:only-of-type {\n",
       "        vertical-align: middle;\n",
       "    }\n",
       "\n",
       "    .dataframe tbody tr th {\n",
       "        vertical-align: top;\n",
       "    }\n",
       "\n",
       "    .dataframe thead th {\n",
       "        text-align: right;\n",
       "    }\n",
       "</style>\n",
       "<table border=\"1\" class=\"dataframe\">\n",
       "  <thead>\n",
       "    <tr style=\"text-align: right;\">\n",
       "      <th></th>\n",
       "      <th>Inversions</th>\n",
       "      <th>year_introduced</th>\n",
       "      <th>latitude</th>\n",
       "      <th>longitude</th>\n",
       "      <th>speed1_value</th>\n",
       "      <th>speed_mph</th>\n",
       "      <th>height_value</th>\n",
       "      <th>height_ft</th>\n",
       "      <th>Inversions_clean</th>\n",
       "      <th>Gforce_clean</th>\n",
       "    </tr>\n",
       "  </thead>\n",
       "  <tbody>\n",
       "    <tr>\n",
       "      <th>count</th>\n",
       "      <td>932.000000</td>\n",
       "      <td>1087.000000</td>\n",
       "      <td>812.000000</td>\n",
       "      <td>812.000000</td>\n",
       "      <td>937.000000</td>\n",
       "      <td>937.000000</td>\n",
       "      <td>965.000000</td>\n",
       "      <td>171.000000</td>\n",
       "      <td>1087.000000</td>\n",
       "      <td>362.000000</td>\n",
       "    </tr>\n",
       "    <tr>\n",
       "      <th>mean</th>\n",
       "      <td>1.547210</td>\n",
       "      <td>1994.986201</td>\n",
       "      <td>38.373484</td>\n",
       "      <td>-41.595373</td>\n",
       "      <td>53.850374</td>\n",
       "      <td>48.617289</td>\n",
       "      <td>89.575171</td>\n",
       "      <td>101.996491</td>\n",
       "      <td>1.326587</td>\n",
       "      <td>3.824006</td>\n",
       "    </tr>\n",
       "    <tr>\n",
       "      <th>std</th>\n",
       "      <td>2.114073</td>\n",
       "      <td>23.475248</td>\n",
       "      <td>15.516596</td>\n",
       "      <td>72.285227</td>\n",
       "      <td>23.385518</td>\n",
       "      <td>16.678031</td>\n",
       "      <td>136.246444</td>\n",
       "      <td>67.329092</td>\n",
       "      <td>2.030854</td>\n",
       "      <td>0.989998</td>\n",
       "    </tr>\n",
       "    <tr>\n",
       "      <th>min</th>\n",
       "      <td>0.000000</td>\n",
       "      <td>1884.000000</td>\n",
       "      <td>-48.261700</td>\n",
       "      <td>-123.035700</td>\n",
       "      <td>5.000000</td>\n",
       "      <td>5.000000</td>\n",
       "      <td>4.000000</td>\n",
       "      <td>13.100000</td>\n",
       "      <td>0.000000</td>\n",
       "      <td>0.800000</td>\n",
       "    </tr>\n",
       "    <tr>\n",
       "      <th>25%</th>\n",
       "      <td>0.000000</td>\n",
       "      <td>1989.000000</td>\n",
       "      <td>35.031050</td>\n",
       "      <td>-84.552200</td>\n",
       "      <td>40.000000</td>\n",
       "      <td>37.300000</td>\n",
       "      <td>44.000000</td>\n",
       "      <td>51.800000</td>\n",
       "      <td>0.000000</td>\n",
       "      <td>3.400000</td>\n",
       "    </tr>\n",
       "    <tr>\n",
       "      <th>50%</th>\n",
       "      <td>0.000000</td>\n",
       "      <td>2000.000000</td>\n",
       "      <td>40.289800</td>\n",
       "      <td>-76.653600</td>\n",
       "      <td>50.000000</td>\n",
       "      <td>49.700000</td>\n",
       "      <td>79.000000</td>\n",
       "      <td>91.200000</td>\n",
       "      <td>0.000000</td>\n",
       "      <td>4.000000</td>\n",
       "    </tr>\n",
       "    <tr>\n",
       "      <th>75%</th>\n",
       "      <td>3.000000</td>\n",
       "      <td>2010.000000</td>\n",
       "      <td>44.799600</td>\n",
       "      <td>2.778100</td>\n",
       "      <td>63.000000</td>\n",
       "      <td>58.000000</td>\n",
       "      <td>113.000000</td>\n",
       "      <td>131.200000</td>\n",
       "      <td>2.000000</td>\n",
       "      <td>4.500000</td>\n",
       "    </tr>\n",
       "    <tr>\n",
       "      <th>max</th>\n",
       "      <td>14.000000</td>\n",
       "      <td>2022.000000</td>\n",
       "      <td>63.230900</td>\n",
       "      <td>153.426500</td>\n",
       "      <td>240.000000</td>\n",
       "      <td>149.100000</td>\n",
       "      <td>3937.000000</td>\n",
       "      <td>377.300000</td>\n",
       "      <td>14.000000</td>\n",
       "      <td>12.000000</td>\n",
       "    </tr>\n",
       "  </tbody>\n",
       "</table>\n",
       "</div>"
      ],
      "text/plain": [
       "       Inversions  year_introduced    latitude   longitude  speed1_value  \\\n",
       "count  932.000000      1087.000000  812.000000  812.000000    937.000000   \n",
       "mean     1.547210      1994.986201   38.373484  -41.595373     53.850374   \n",
       "std      2.114073        23.475248   15.516596   72.285227     23.385518   \n",
       "min      0.000000      1884.000000  -48.261700 -123.035700      5.000000   \n",
       "25%      0.000000      1989.000000   35.031050  -84.552200     40.000000   \n",
       "50%      0.000000      2000.000000   40.289800  -76.653600     50.000000   \n",
       "75%      3.000000      2010.000000   44.799600    2.778100     63.000000   \n",
       "max     14.000000      2022.000000   63.230900  153.426500    240.000000   \n",
       "\n",
       "        speed_mph  height_value   height_ft  Inversions_clean  Gforce_clean  \n",
       "count  937.000000    965.000000  171.000000       1087.000000    362.000000  \n",
       "mean    48.617289     89.575171  101.996491          1.326587      3.824006  \n",
       "std     16.678031    136.246444   67.329092          2.030854      0.989998  \n",
       "min      5.000000      4.000000   13.100000          0.000000      0.800000  \n",
       "25%     37.300000     44.000000   51.800000          0.000000      3.400000  \n",
       "50%     49.700000     79.000000   91.200000          0.000000      4.000000  \n",
       "75%     58.000000    113.000000  131.200000          2.000000      4.500000  \n",
       "max    149.100000   3937.000000  377.300000         14.000000     12.000000  "
      ]
     },
     "execution_count": 259,
     "metadata": {},
     "output_type": "execute_result"
    }
   ],
   "source": [
    "df.describe()"
   ]
  },
  {
   "cell_type": "code",
   "execution_count": 260,
   "id": "bc779828",
   "metadata": {
    "scrolled": true
   },
   "outputs": [],
   "source": [
    "#selecting columns that we want to work with\n",
    "df = df[['coaster_name', \n",
    "    #'Length', 'Speed', \n",
    "    'Location', 'Status', \n",
    "    'Opening date',\n",
    "    #'Type', \n",
    "    'Manufacturer', \n",
    "    #'Height restriction', 'Model', 'Height',\n",
    "    #   'Inversions', 'Lift/launch system', 'Cost', 'Trains', 'Park section',\n",
    "       #'Duration', 'Capacity', 'G-force', 'Designer', 'Max vertical angle',\n",
    "       #'Drop', 'Soft opening date', 'Fast Lane available', 'Replaced',\n",
    "       #'Track layout', 'Fastrack available', 'Soft opening date.1',\n",
    "       #'Closing date', \n",
    "    #'Opened', \n",
    "    #'Replaced by', 'Website',\n",
    "       #'Flash Pass Available', 'Must transfer from wheelchair', 'Theme',\n",
    "       #'Single rider line available', 'Restraint Style',\n",
    "       #'Flash Pass available', 'Acceleration', 'Restraints', 'Name',\n",
    "       'year_introduced','latitude', 'longitude', 'Type_Main',\n",
    "       'opening_date_clean',\n",
    "    #'speed1', 'speed2', 'speed1_value', 'speed1_unit',\n",
    "       'speed_mph', \n",
    "    #'height_value', 'height_unit', \n",
    "    'height_ft',\n",
    "       'Inversions_clean', 'Gforce_clean']].copy()"
   ]
  },
  {
   "cell_type": "code",
   "execution_count": 261,
   "id": "46e5ae60",
   "metadata": {},
   "outputs": [],
   "source": [
    "# we can drop columns instead of commenting out of the way but the first way is easier in my opinion.\n",
    "df = df.drop(['Opening date'],axis=1)"
   ]
  },
  {
   "cell_type": "code",
   "execution_count": 262,
   "id": "beb66cfd",
   "metadata": {},
   "outputs": [],
   "source": [
    "# I don't want to work with removed roller coasters. So, we can drop rows that has removed status.\n",
    "# Secondly, we don't need any status column anymore because we have just operating roller coasters.\n",
    "df = df.query('Status == \"Operating\"')\n",
    "df = df.drop(['Status'],axis=1)"
   ]
  },
  {
   "cell_type": "code",
   "execution_count": 263,
   "id": "9026546a",
   "metadata": {},
   "outputs": [
    {
     "data": {
      "text/plain": [
       "(668, 12)"
      ]
     },
     "execution_count": 263,
     "metadata": {},
     "output_type": "execute_result"
    }
   ],
   "source": [
    "df.shape\n",
    "#(1087, 56) was the shape we had before dropping columns."
   ]
  },
  {
   "cell_type": "code",
   "execution_count": 264,
   "id": "b831c3f3",
   "metadata": {},
   "outputs": [
    {
     "data": {
      "text/plain": [
       "coaster_name           object\n",
       "Location               object\n",
       "Manufacturer           object\n",
       "year_introduced         int64\n",
       "latitude              float64\n",
       "longitude             float64\n",
       "Type_Main              object\n",
       "opening_date_clean     object\n",
       "speed_mph             float64\n",
       "height_ft             float64\n",
       "Inversions_clean        int64\n",
       "Gforce_clean          float64\n",
       "dtype: object"
      ]
     },
     "execution_count": 264,
     "metadata": {},
     "output_type": "execute_result"
    }
   ],
   "source": [
    "df.dtypes"
   ]
  },
  {
   "cell_type": "code",
   "execution_count": 265,
   "id": "fab15d65",
   "metadata": {},
   "outputs": [
    {
     "data": {
      "text/plain": [
       "6       1902-01-01\n",
       "13      1927-01-01\n",
       "15      1912-12-01\n",
       "22      1920-01-01\n",
       "23      1920-01-01\n",
       "           ...    \n",
       "1066    2021-06-02\n",
       "1068    2021-04-12\n",
       "1069    2021-05-29\n",
       "1070    2021-07-01\n",
       "1071    2021-06-10\n",
       "Name: opening_date_clean, Length: 668, dtype: object"
      ]
     },
     "execution_count": 265,
     "metadata": {},
     "output_type": "execute_result"
    }
   ],
   "source": [
    "df['opening_date_clean']"
   ]
  },
  {
   "cell_type": "code",
   "execution_count": 266,
   "id": "4f5628d6",
   "metadata": {},
   "outputs": [],
   "source": [
    "#opening_date_clean column is object, we want to change it into datetime.\n",
    "df['opening_date_clean'] = pd.to_datetime(df['opening_date_clean'])"
   ]
  },
  {
   "cell_type": "code",
   "execution_count": 267,
   "id": "42da82e0",
   "metadata": {},
   "outputs": [
    {
     "data": {
      "text/plain": [
       "Index(['coaster_name', 'Location', 'Manufacturer', 'year_introduced',\n",
       "       'latitude', 'longitude', 'Type_Main', 'opening_date_clean', 'speed_mph',\n",
       "       'height_ft', 'Inversions_clean', 'Gforce_clean'],\n",
       "      dtype='object')"
      ]
     },
     "execution_count": 267,
     "metadata": {},
     "output_type": "execute_result"
    }
   ],
   "source": [
    "#renaming columns\n",
    "df.columns"
   ]
  },
  {
   "cell_type": "code",
   "execution_count": 268,
   "id": "51718caf",
   "metadata": {},
   "outputs": [],
   "source": [
    "df = df.rename(columns={'coaster_name':'Coaster_Name',\n",
    "                   'year_introduced':'Year_Introduced',\n",
    "                   'opening_date_clean':'Opening_Date',\n",
    "                   'speed_mph':'Speed_mph',\n",
    "                   'height_ft':'Height_ft',\n",
    "                   'Inversions_clean':'Inversions',\n",
    "                   'Gforce_clean':'Gforce',\n",
    "                   'latitude':'Latitude',\n",
    "                   'longitude':'Longitude'})"
   ]
  },
  {
   "cell_type": "code",
   "execution_count": 269,
   "id": "bd2c34c5",
   "metadata": {},
   "outputs": [
    {
     "data": {
      "text/html": [
       "<div>\n",
       "<style scoped>\n",
       "    .dataframe tbody tr th:only-of-type {\n",
       "        vertical-align: middle;\n",
       "    }\n",
       "\n",
       "    .dataframe tbody tr th {\n",
       "        vertical-align: top;\n",
       "    }\n",
       "\n",
       "    .dataframe thead th {\n",
       "        text-align: right;\n",
       "    }\n",
       "</style>\n",
       "<table border=\"1\" class=\"dataframe\">\n",
       "  <thead>\n",
       "    <tr style=\"text-align: right;\">\n",
       "      <th></th>\n",
       "      <th>Coaster_Name</th>\n",
       "      <th>Location</th>\n",
       "      <th>Manufacturer</th>\n",
       "      <th>Year_Introduced</th>\n",
       "      <th>Latitude</th>\n",
       "      <th>Longitude</th>\n",
       "      <th>Type_Main</th>\n",
       "      <th>Opening_Date</th>\n",
       "      <th>Speed_mph</th>\n",
       "      <th>Height_ft</th>\n",
       "      <th>Inversions</th>\n",
       "      <th>Gforce</th>\n",
       "    </tr>\n",
       "  </thead>\n",
       "  <tbody>\n",
       "    <tr>\n",
       "      <th>6</th>\n",
       "      <td>Leap-The-Dips</td>\n",
       "      <td>Lakemont Park</td>\n",
       "      <td>Federal Construction Company</td>\n",
       "      <td>1902</td>\n",
       "      <td>NaN</td>\n",
       "      <td>NaN</td>\n",
       "      <td>Wood</td>\n",
       "      <td>1902-01-01</td>\n",
       "      <td>10.0</td>\n",
       "      <td>NaN</td>\n",
       "      <td>0</td>\n",
       "      <td>NaN</td>\n",
       "    </tr>\n",
       "    <tr>\n",
       "      <th>13</th>\n",
       "      <td>Racer (1910 roller coaster)</td>\n",
       "      <td>Kennywood</td>\n",
       "      <td>Charlie Mach</td>\n",
       "      <td>1910</td>\n",
       "      <td>40.3869</td>\n",
       "      <td>-79.8619</td>\n",
       "      <td>Wood</td>\n",
       "      <td>1927-01-01</td>\n",
       "      <td>40.0</td>\n",
       "      <td>NaN</td>\n",
       "      <td>0</td>\n",
       "      <td>NaN</td>\n",
       "    </tr>\n",
       "    <tr>\n",
       "      <th>15</th>\n",
       "      <td>The Great Scenic Railway</td>\n",
       "      <td>Luna Park Melbourne</td>\n",
       "      <td>LaMarcus Thompson</td>\n",
       "      <td>1912</td>\n",
       "      <td>NaN</td>\n",
       "      <td>NaN</td>\n",
       "      <td>Wood</td>\n",
       "      <td>1912-12-01</td>\n",
       "      <td>37.3</td>\n",
       "      <td>52.5</td>\n",
       "      <td>0</td>\n",
       "      <td>NaN</td>\n",
       "    </tr>\n",
       "    <tr>\n",
       "      <th>22</th>\n",
       "      <td>Jack Rabbit (Kennywood)</td>\n",
       "      <td>Kennywood</td>\n",
       "      <td>Harry C. Baker</td>\n",
       "      <td>1920</td>\n",
       "      <td>40.3867</td>\n",
       "      <td>-79.8628</td>\n",
       "      <td>Wood</td>\n",
       "      <td>1920-01-01</td>\n",
       "      <td>45.0</td>\n",
       "      <td>NaN</td>\n",
       "      <td>0</td>\n",
       "      <td>NaN</td>\n",
       "    </tr>\n",
       "    <tr>\n",
       "      <th>23</th>\n",
       "      <td>Jack Rabbit (Seabreeze)</td>\n",
       "      <td>Seabreeze Amusement Park</td>\n",
       "      <td>Harry C. Baker</td>\n",
       "      <td>1920</td>\n",
       "      <td>43.2316</td>\n",
       "      <td>-77.5432</td>\n",
       "      <td>Wood</td>\n",
       "      <td>1920-01-01</td>\n",
       "      <td>42.0</td>\n",
       "      <td>NaN</td>\n",
       "      <td>0</td>\n",
       "      <td>NaN</td>\n",
       "    </tr>\n",
       "  </tbody>\n",
       "</table>\n",
       "</div>"
      ],
      "text/plain": [
       "                   Coaster_Name                  Location  \\\n",
       "6                 Leap-The-Dips             Lakemont Park   \n",
       "13  Racer (1910 roller coaster)                 Kennywood   \n",
       "15     The Great Scenic Railway       Luna Park Melbourne   \n",
       "22      Jack Rabbit (Kennywood)                 Kennywood   \n",
       "23      Jack Rabbit (Seabreeze)  Seabreeze Amusement Park   \n",
       "\n",
       "                    Manufacturer  Year_Introduced  Latitude  Longitude  \\\n",
       "6   Federal Construction Company             1902       NaN        NaN   \n",
       "13                  Charlie Mach             1910   40.3869   -79.8619   \n",
       "15             LaMarcus Thompson             1912       NaN        NaN   \n",
       "22                Harry C. Baker             1920   40.3867   -79.8628   \n",
       "23                Harry C. Baker             1920   43.2316   -77.5432   \n",
       "\n",
       "   Type_Main Opening_Date  Speed_mph  Height_ft  Inversions  Gforce  \n",
       "6       Wood   1902-01-01       10.0        NaN           0     NaN  \n",
       "13      Wood   1927-01-01       40.0        NaN           0     NaN  \n",
       "15      Wood   1912-12-01       37.3       52.5           0     NaN  \n",
       "22      Wood   1920-01-01       45.0        NaN           0     NaN  \n",
       "23      Wood   1920-01-01       42.0        NaN           0     NaN  "
      ]
     },
     "execution_count": 269,
     "metadata": {},
     "output_type": "execute_result"
    }
   ],
   "source": [
    "df.head()"
   ]
  },
  {
   "cell_type": "code",
   "execution_count": 270,
   "id": "d7f756a9",
   "metadata": {},
   "outputs": [
    {
     "data": {
      "text/plain": [
       "Coaster_Name         0\n",
       "Location             0\n",
       "Manufacturer        24\n",
       "Year_Introduced      0\n",
       "Latitude            49\n",
       "Longitude           49\n",
       "Type_Main            0\n",
       "Opening_Date        11\n",
       "Speed_mph           60\n",
       "Height_ft          537\n",
       "Inversions           0\n",
       "Gforce             431\n",
       "dtype: int64"
      ]
     },
     "execution_count": 270,
     "metadata": {},
     "output_type": "execute_result"
    }
   ],
   "source": [
    "df.isna().sum()\n",
    "#sum of the null values of the each column."
   ]
  },
  {
   "cell_type": "code",
   "execution_count": 271,
   "id": "b017c676",
   "metadata": {},
   "outputs": [
    {
     "data": {
      "text/html": [
       "<div>\n",
       "<style scoped>\n",
       "    .dataframe tbody tr th:only-of-type {\n",
       "        vertical-align: middle;\n",
       "    }\n",
       "\n",
       "    .dataframe tbody tr th {\n",
       "        vertical-align: top;\n",
       "    }\n",
       "\n",
       "    .dataframe thead th {\n",
       "        text-align: right;\n",
       "    }\n",
       "</style>\n",
       "<table border=\"1\" class=\"dataframe\">\n",
       "  <thead>\n",
       "    <tr style=\"text-align: right;\">\n",
       "      <th></th>\n",
       "      <th>Coaster_Name</th>\n",
       "      <th>Location</th>\n",
       "      <th>Manufacturer</th>\n",
       "      <th>Year_Introduced</th>\n",
       "      <th>Latitude</th>\n",
       "      <th>Longitude</th>\n",
       "      <th>Type_Main</th>\n",
       "      <th>Opening_Date</th>\n",
       "      <th>Speed_mph</th>\n",
       "      <th>Height_ft</th>\n",
       "      <th>Inversions</th>\n",
       "      <th>Gforce</th>\n",
       "    </tr>\n",
       "  </thead>\n",
       "  <tbody>\n",
       "    <tr>\n",
       "      <th>237</th>\n",
       "      <td>Thunder Run (Canada's Wonderland)</td>\n",
       "      <td>Canada's Wonderland</td>\n",
       "      <td>Mack Rides</td>\n",
       "      <td>1986</td>\n",
       "      <td>43.8427</td>\n",
       "      <td>-79.5423</td>\n",
       "      <td>Steel</td>\n",
       "      <td>1981-05-23</td>\n",
       "      <td>39.8</td>\n",
       "      <td>32.8</td>\n",
       "      <td>0</td>\n",
       "      <td>NaN</td>\n",
       "    </tr>\n",
       "    <tr>\n",
       "      <th>282</th>\n",
       "      <td>Ultra Twister (Nagashima Spa Land)</td>\n",
       "      <td>Nagashima Spa Land</td>\n",
       "      <td>TOGO</td>\n",
       "      <td>1989</td>\n",
       "      <td>35.0285</td>\n",
       "      <td>136.7326</td>\n",
       "      <td>Steel</td>\n",
       "      <td>1989-01-01</td>\n",
       "      <td>NaN</td>\n",
       "      <td>NaN</td>\n",
       "      <td>3</td>\n",
       "      <td>NaN</td>\n",
       "    </tr>\n",
       "    <tr>\n",
       "      <th>347</th>\n",
       "      <td>Wild Mouse (Idlewild)</td>\n",
       "      <td>Idlewild and Soak Zone</td>\n",
       "      <td>Vekoma</td>\n",
       "      <td>1993</td>\n",
       "      <td>40.2598</td>\n",
       "      <td>-79.2799</td>\n",
       "      <td>Steel</td>\n",
       "      <td>1985-01-01</td>\n",
       "      <td>30.0</td>\n",
       "      <td>NaN</td>\n",
       "      <td>0</td>\n",
       "      <td>NaN</td>\n",
       "    </tr>\n",
       "    <tr>\n",
       "      <th>653</th>\n",
       "      <td>Journey to Atlantis</td>\n",
       "      <td>SeaWorld Orlando</td>\n",
       "      <td>Mack Rides</td>\n",
       "      <td>2004</td>\n",
       "      <td>NaN</td>\n",
       "      <td>NaN</td>\n",
       "      <td>Steel</td>\n",
       "      <td>1998-04-17</td>\n",
       "      <td>NaN</td>\n",
       "      <td>NaN</td>\n",
       "      <td>0</td>\n",
       "      <td>NaN</td>\n",
       "    </tr>\n",
       "    <tr>\n",
       "      <th>724</th>\n",
       "      <td>Flying Fish (roller coaster)</td>\n",
       "      <td>Thorpe Park</td>\n",
       "      <td>Mack Rides</td>\n",
       "      <td>2007</td>\n",
       "      <td>51.4052</td>\n",
       "      <td>-0.5139</td>\n",
       "      <td>Steel</td>\n",
       "      <td>1984-01-01</td>\n",
       "      <td>16.8</td>\n",
       "      <td>NaN</td>\n",
       "      <td>0</td>\n",
       "      <td>2.1</td>\n",
       "    </tr>\n",
       "  </tbody>\n",
       "</table>\n",
       "</div>"
      ],
      "text/plain": [
       "                           Coaster_Name                Location Manufacturer  \\\n",
       "237   Thunder Run (Canada's Wonderland)     Canada's Wonderland   Mack Rides   \n",
       "282  Ultra Twister (Nagashima Spa Land)      Nagashima Spa Land         TOGO   \n",
       "347               Wild Mouse (Idlewild)  Idlewild and Soak Zone       Vekoma   \n",
       "653                 Journey to Atlantis        SeaWorld Orlando   Mack Rides   \n",
       "724        Flying Fish (roller coaster)             Thorpe Park   Mack Rides   \n",
       "\n",
       "     Year_Introduced  Latitude  Longitude Type_Main Opening_Date  Speed_mph  \\\n",
       "237             1986   43.8427   -79.5423     Steel   1981-05-23       39.8   \n",
       "282             1989   35.0285   136.7326     Steel   1989-01-01        NaN   \n",
       "347             1993   40.2598   -79.2799     Steel   1985-01-01       30.0   \n",
       "653             2004       NaN        NaN     Steel   1998-04-17        NaN   \n",
       "724             2007   51.4052    -0.5139     Steel   1984-01-01       16.8   \n",
       "\n",
       "     Height_ft  Inversions  Gforce  \n",
       "237       32.8           0     NaN  \n",
       "282        NaN           3     NaN  \n",
       "347        NaN           0     NaN  \n",
       "653        NaN           0     NaN  \n",
       "724        NaN           0     2.1  "
      ]
     },
     "execution_count": 271,
     "metadata": {},
     "output_type": "execute_result"
    }
   ],
   "source": [
    "df.loc[df.duplicated(subset=['Coaster_Name'])].head(5)"
   ]
  },
  {
   "cell_type": "code",
   "execution_count": 272,
   "id": "b8a0b2b3",
   "metadata": {},
   "outputs": [
    {
     "data": {
      "text/html": [
       "<div>\n",
       "<style scoped>\n",
       "    .dataframe tbody tr th:only-of-type {\n",
       "        vertical-align: middle;\n",
       "    }\n",
       "\n",
       "    .dataframe tbody tr th {\n",
       "        vertical-align: top;\n",
       "    }\n",
       "\n",
       "    .dataframe thead th {\n",
       "        text-align: right;\n",
       "    }\n",
       "</style>\n",
       "<table border=\"1\" class=\"dataframe\">\n",
       "  <thead>\n",
       "    <tr style=\"text-align: right;\">\n",
       "      <th></th>\n",
       "      <th>Coaster_Name</th>\n",
       "      <th>Location</th>\n",
       "      <th>Manufacturer</th>\n",
       "      <th>Year_Introduced</th>\n",
       "      <th>Latitude</th>\n",
       "      <th>Longitude</th>\n",
       "      <th>Type_Main</th>\n",
       "      <th>Opening_Date</th>\n",
       "      <th>Speed_mph</th>\n",
       "      <th>Height_ft</th>\n",
       "      <th>Inversions</th>\n",
       "      <th>Gforce</th>\n",
       "    </tr>\n",
       "  </thead>\n",
       "  <tbody>\n",
       "  </tbody>\n",
       "</table>\n",
       "</div>"
      ],
      "text/plain": [
       "Empty DataFrame\n",
       "Columns: [Coaster_Name, Location, Manufacturer, Year_Introduced, Latitude, Longitude, Type_Main, Opening_Date, Speed_mph, Height_ft, Inversions, Gforce]\n",
       "Index: []"
      ]
     },
     "execution_count": 272,
     "metadata": {},
     "output_type": "execute_result"
    }
   ],
   "source": [
    "# checking duplicate\n",
    "df.query('Coaster_Name == \"Crystal Beach Cyclone\"')"
   ]
  },
  {
   "cell_type": "code",
   "execution_count": 273,
   "id": "ddf4191c",
   "metadata": {},
   "outputs": [
    {
     "data": {
      "text/plain": [
       "Index(['Coaster_Name', 'Location', 'Manufacturer', 'Year_Introduced',\n",
       "       'Latitude', 'Longitude', 'Type_Main', 'Opening_Date', 'Speed_mph',\n",
       "       'Height_ft', 'Inversions', 'Gforce'],\n",
       "      dtype='object')"
      ]
     },
     "execution_count": 273,
     "metadata": {},
     "output_type": "execute_result"
    }
   ],
   "source": [
    "df.columns"
   ]
  },
  {
   "cell_type": "code",
   "execution_count": 274,
   "id": "abb92d9a",
   "metadata": {},
   "outputs": [],
   "source": [
    "#getting the rows that are NOT duplicated\n",
    "df = df.loc[~df.duplicated(subset=['Coaster_Name','Location','Opening_Date'])] \\\n",
    "     .reset_index(drop=True).copy()"
   ]
  },
  {
   "cell_type": "code",
   "execution_count": 275,
   "id": "6ed1b14c",
   "metadata": {},
   "outputs": [
    {
     "data": {
      "text/plain": [
       "(646, 12)"
      ]
     },
     "execution_count": 275,
     "metadata": {},
     "output_type": "execute_result"
    }
   ],
   "source": [
    "df.shape\n",
    "#(668, 12) was the shape we had before we removed duplicated rows."
   ]
  },
  {
   "cell_type": "code",
   "execution_count": 276,
   "id": "ecff2d5b",
   "metadata": {},
   "outputs": [],
   "source": [
    "#Feature understanding"
   ]
  },
  {
   "cell_type": "code",
   "execution_count": 277,
   "id": "71c82c81",
   "metadata": {},
   "outputs": [
    {
     "data": {
      "text/plain": [
       "1999    32\n",
       "2000    25\n",
       "2006    21\n",
       "2002    21\n",
       "2007    21\n",
       "        ..\n",
       "1964     1\n",
       "1968     1\n",
       "1986     1\n",
       "1910     1\n",
       "1902     1\n",
       "Name: Year_Introduced, Length: 81, dtype: int64"
      ]
     },
     "execution_count": 277,
     "metadata": {},
     "output_type": "execute_result"
    }
   ],
   "source": [
    "df['Year_Introduced'].value_counts()"
   ]
  },
  {
   "cell_type": "code",
   "execution_count": 278,
   "id": "2db04b94",
   "metadata": {},
   "outputs": [
    {
     "data": {
      "image/png": "[encoded data removed]",
      "text/plain": [
       "<Figure size 432x288 with 1 Axes>"
      ]
     },
     "metadata": {},
     "output_type": "display_data"
    }
   ],
   "source": [
    "ax = df['Year_Introduced'].value_counts().head(10) \\\n",
    "    .plot(kind='bar',title='Top 10 Years Coasters Introduced')\n",
    "\n",
    "ax.set_xlabel('Year Introduced')\n",
    "ax.set_ylabel('Count')\n",
    "plt.show()"
   ]
  },
  {
   "cell_type": "code",
   "execution_count": 279,
   "id": "6f05ea7f",
   "metadata": {},
   "outputs": [
    {
     "data": {
      "image/png": "[encoded data removed]",
      "text/plain": [
       "<Figure size 432x288 with 1 Axes>"
      ]
     },
     "metadata": {},
     "output_type": "display_data"
    }
   ],
   "source": [
    "ax = df['Speed_mph'].plot(kind='hist', bins=20, title='Coaster Speed (mph)')\n",
    "ax.set_xlabel('Speed (mph)')\n",
    "plt.show()"
   ]
  },
  {
   "cell_type": "code",
   "execution_count": 280,
   "id": "9e260260",
   "metadata": {},
   "outputs": [
    {
     "data": {
      "image/png": "[encoded data removed]",
      "text/plain": [
       "<Figure size 432x288 with 1 Axes>"
      ]
     },
     "metadata": {},
     "output_type": "display_data"
    }
   ],
   "source": [
    "ax = df['Speed_mph'].plot(kind='kde', title='Coaster Speed (mph)')\n",
    "ax.set_xlabel('Speed (mph)')\n",
    "plt.show()"
   ]
  },
  {
   "cell_type": "code",
   "execution_count": 281,
   "id": "2ded48f0",
   "metadata": {},
   "outputs": [],
   "source": [
    "# feature relationships"
   ]
  },
  {
   "cell_type": "code",
   "execution_count": 282,
   "id": "1d1e3a29",
   "metadata": {},
   "outputs": [
    {
     "data": {
      "image/png": "[encoded data removed]",
      "text/plain": [
       "<Figure size 432x288 with 1 Axes>"
      ]
     },
     "metadata": {},
     "output_type": "display_data"
    }
   ],
   "source": [
    "df.plot(kind='scatter',x='Speed_mph',y='Height_ft',title='Coaster Speed vs Height')\n",
    "plt.show()"
   ]
  },
  {
   "cell_type": "code",
   "execution_count": 283,
   "id": "0fa0bde6",
   "metadata": {},
   "outputs": [
    {
     "data": {
      "image/png": "[encoded data removed]",
      "text/plain": [
       "<Figure size 432x288 with 1 Axes>"
      ]
     },
     "metadata": {},
     "output_type": "display_data"
    }
   ],
   "source": [
    "sns.scatterplot(x='Speed_mph',\n",
    "                y='Height_ft',\n",
    "                hue='Year_Introduced',\n",
    "                data=df)\n",
    "plt.show()"
   ]
  },
  {
   "cell_type": "code",
   "execution_count": 284,
   "id": "dadb22f3",
   "metadata": {},
   "outputs": [
    {
     "data": {
      "image/png": "[encoded data removed]",
      "text/plain": [
       "<Figure size 962.25x900 with 30 Axes>"
      ]
     },
     "metadata": {},
     "output_type": "display_data"
    }
   ],
   "source": [
    "sns.pairplot(df,vars=['Year_Introduced','Speed_mph',\n",
    "                     'Height_ft','Inversions','Gforce'],\n",
    "                     hue='Type_Main')\n",
    "plt.show()"
   ]
  },
  {
   "cell_type": "code",
   "execution_count": 285,
   "id": "6eed60ba",
   "metadata": {},
   "outputs": [
    {
     "data": {
      "text/html": [
       "<div>\n",
       "<style scoped>\n",
       "    .dataframe tbody tr th:only-of-type {\n",
       "        vertical-align: middle;\n",
       "    }\n",
       "\n",
       "    .dataframe tbody tr th {\n",
       "        vertical-align: top;\n",
       "    }\n",
       "\n",
       "    .dataframe thead th {\n",
       "        text-align: right;\n",
       "    }\n",
       "</style>\n",
       "<table border=\"1\" class=\"dataframe\">\n",
       "  <thead>\n",
       "    <tr style=\"text-align: right;\">\n",
       "      <th></th>\n",
       "      <th>Year_Introduced</th>\n",
       "      <th>Speed_mph</th>\n",
       "      <th>Height_ft</th>\n",
       "      <th>Inversions</th>\n",
       "      <th>Gforce</th>\n",
       "    </tr>\n",
       "  </thead>\n",
       "  <tbody>\n",
       "    <tr>\n",
       "      <th>Year_Introduced</th>\n",
       "      <td>1.000000</td>\n",
       "      <td>0.226605</td>\n",
       "      <td>0.258765</td>\n",
       "      <td>-0.184576</td>\n",
       "      <td>0.214338</td>\n",
       "    </tr>\n",
       "    <tr>\n",
       "      <th>Speed_mph</th>\n",
       "      <td>0.226605</td>\n",
       "      <td>1.000000</td>\n",
       "      <td>0.738119</td>\n",
       "      <td>0.020002</td>\n",
       "      <td>0.594920</td>\n",
       "    </tr>\n",
       "    <tr>\n",
       "      <th>Height_ft</th>\n",
       "      <td>0.258765</td>\n",
       "      <td>0.738119</td>\n",
       "      <td>1.000000</td>\n",
       "      <td>-0.045196</td>\n",
       "      <td>0.507554</td>\n",
       "    </tr>\n",
       "    <tr>\n",
       "      <th>Inversions</th>\n",
       "      <td>-0.184576</td>\n",
       "      <td>0.020002</td>\n",
       "      <td>-0.045196</td>\n",
       "      <td>1.000000</td>\n",
       "      <td>0.327751</td>\n",
       "    </tr>\n",
       "    <tr>\n",
       "      <th>Gforce</th>\n",
       "      <td>0.214338</td>\n",
       "      <td>0.594920</td>\n",
       "      <td>0.507554</td>\n",
       "      <td>0.327751</td>\n",
       "      <td>1.000000</td>\n",
       "    </tr>\n",
       "  </tbody>\n",
       "</table>\n",
       "</div>"
      ],
      "text/plain": [
       "                 Year_Introduced  Speed_mph  Height_ft  Inversions    Gforce\n",
       "Year_Introduced         1.000000   0.226605   0.258765   -0.184576  0.214338\n",
       "Speed_mph               0.226605   1.000000   0.738119    0.020002  0.594920\n",
       "Height_ft               0.258765   0.738119   1.000000   -0.045196  0.507554\n",
       "Inversions             -0.184576   0.020002  -0.045196    1.000000  0.327751\n",
       "Gforce                  0.214338   0.594920   0.507554    0.327751  1.000000"
      ]
     },
     "execution_count": 285,
     "metadata": {},
     "output_type": "execute_result"
    }
   ],
   "source": [
    "df_corr = df[['Year_Introduced','Speed_mph',\n",
    "                     'Height_ft','Inversions','Gforce']].dropna().corr()\n",
    "df_corr"
   ]
  },
  {
   "cell_type": "code",
   "execution_count": 286,
   "id": "de946763",
   "metadata": {},
   "outputs": [
    {
     "data": {
      "image/png": "[encoded data removed]",
      "text/plain": [
       "<Figure size 432x288 with 2 Axes>"
      ]
     },
     "metadata": {},
     "output_type": "display_data"
    }
   ],
   "source": [
    "sns.heatmap(df_corr,annot=True)\n",
    "plt.show()"
   ]
  },
  {
   "cell_type": "code",
   "execution_count": 287,
   "id": "9433fad0",
   "metadata": {},
   "outputs": [],
   "source": [
    "#asking a question about data\n",
    "# what are the locations with the fastest roller coasters (minimum of 10)?"
   ]
  },
  {
   "cell_type": "code",
   "execution_count": 288,
   "id": "a9d8af3b",
   "metadata": {},
   "outputs": [
    {
     "data": {
      "image/png": "[encoded data removed]",
      "text/plain": [
       "<Figure size 864x360 with 1 Axes>"
      ]
     },
     "metadata": {},
     "output_type": "display_data"
    }
   ],
   "source": [
    "ax = df.query('Location != \"Other\"') \\\n",
    "    .groupby('Location')['Speed_mph'] \\\n",
    "    .agg(['mean','count']) \\\n",
    "    .query('count >= 10') \\\n",
    "    .sort_values('mean')['mean'] \\\n",
    "    .plot(kind='barh',figsize=(12,5),title='Average Coast Speed by Location')\n",
    "ax.set_xlabel('Roller Coaster Speed(mh)')\n",
    "plt.show()"
   ]
  },
  {
   "cell_type": "code",
   "execution_count": 289,
   "id": "89ac9846",
   "metadata": {},
   "outputs": [
    {
     "data": {
      "image/png": "[encoded data removed]",
      "text/plain": [
       "<Figure size 864x360 with 1 Axes>"
      ]
     },
     "metadata": {},
     "output_type": "display_data"
    }
   ],
   "source": [
    "#showing the locations that has more speed than 70 mph on average.\n",
    "ax = df.groupby('Location').Speed_mph.mean().dropna().sort_values(ascending=False).loc[lambda x:x>70]\\\n",
    ".plot(kind='barh', title='Locations with Speed (>70) on average',figsize=(12,5))\n",
    "ax.set_xlabel('Speed (MPH)')\n",
    "plt.show()"
   ]
  },
  {
   "cell_type": "code",
   "execution_count": 290,
   "id": "87ed2053",
   "metadata": {},
   "outputs": [
    {
     "data": {
      "application/vnd.plotly.v1+json": {
       "config": {
        "plotlyServerURL": "https://plot.ly"
       },
       "data": [
        {
         "geo": "geo",
         "hovertemplate": "Type_Main=Wood<br>Latitude=%{lat}<br>Longitude=%{lon}<extra></extra>",
         "lat": [
          null,
          40.3869,
          null,
          40.3867,
          43.2316,
          51.3853,
          40.9849,
          53.7892,
          36.9647,
          40.3889,
          40.5798,
          null,
          40.3869,
          41.6408,
          40.9675,
          42.7953,
          52.5928,
          53.7908,
          40.2602,
          39.7808,
          42.0389,
          40.2864,
          42.1077,
          60.1886,
          40.1544,
          41.4799,
          33.6825,
          null,
          40.3889,
          39.3437,
          39.3432,
          33.7658,
          37.8405,
          37.8371,
          35.101,
          44.8006,
          38.5164,
          34.5213,
          41.6515,
          39.3402,
          32.7554,
          39.3432,
          42.3646,
          43.8438,
          43.8392,
          43.8441,
          37.8375,
          45.525,
          40.8783,
          37.393,
          43.3436,
          39.1728,
          42.9292,
          38.1956,
          33.2617,
          40.0295,
          41.6491,
          43.3514,
          40.7903,
          43.3434,
          43.6161,
          38.1194,
          39.7464,
          42.3681,
          38.9865,
          51.7807,
          43.614,
          47.9044,
          null,
          40.2925,
          41.0904,
          49.1314,
          43.6167,
          43.5283,
          33.8426,
          33.3792,
          43.3422,
          51.6242,
          -23.0987,
          47.9053,
          40.8771,
          38.5161,
          41.6392,
          38.1202,
          40.2929,
          53.0231,
          40.7898,
          59.7472,
          40.7886,
          35.143,
          57.6933,
          39.802,
          35.7967,
          35.101,
          43.617,
          39.3432,
          37.0225,
          63.2306,
          38.1213,
          29.5463,
          44.8008,
          null,
          38.5125,
          42.1093,
          37.2898,
          34.4213,
          39.1744,
          50.566,
          31.0987,
          51.6469,
          35.101,
          39.3432,
          22.6145,
          41.5264,
          30.5912,
          48.2614,
          40.8784,
          37.3967,
          36.6681,
          28.4662,
          37.8405,
          44.1161,
          53.5427,
          null,
          58.6653,
          37.2325,
          null,
          null,
          52.9889,
          38.1943,
          29.4524
         ],
         "legendgroup": "Wood",
         "lon": [
          null,
          -79.8619,
          null,
          -79.8628,
          -77.5432,
          1.3775,
          -111.8951,
          -3.0569,
          -122.0153,
          -79.865,
          -75.5355,
          null,
          -79.8619,
          -72.9231,
          -73.6739,
          -71.2492,
          1.7361,
          -3.0544,
          -79.2814,
          -105.054,
          -72.6133,
          -76.6556,
          -80.1568,
          24.9417,
          -83.1203,
          -82.6826,
          -78.8917,
          null,
          -79.865,
          -84.2647,
          -84.2693,
          -84.5514,
          -77.4422,
          -77.4449,
          -80.9394,
          -93.4578,
          -90.6761,
          -93.0143,
          -93.5025,
          -84.266,
          -97.0673,
          -84.2693,
          -87.9336,
          -79.546,
          -79.5419,
          -79.5432,
          -77.4471,
          -73.5333,
          -76.5064,
          -121.9714,
          -86.2775,
          -94.4892,
          -78.3861,
          -85.7475,
          131.4281,
          -76.2173,
          -93.5006,
          -73.6851,
          -86.7706,
          -86.2809,
          -89.7897,
          -86.9152,
          -105.0144,
          -87.9372,
          -74.8107,
          -4.8056,
          -89.7898,
          -116.7094,
          null,
          -76.6558,
          1.1566,
          2.5739,
          -89.7892,
          -70.4312,
          -117.9981,
          -86.9969,
          -86.2761,
          6.9754,
          -47.0109,
          -116.7097,
          -76.5041,
          -90.6789,
          -72.9245,
          -86.914,
          -76.6532,
          9.8833,
          -86.771,
          10.7773,
          -86.77,
          -106.5884,
          11.9961,
          -74.9847,
          -83.5319,
          -80.9394,
          -89.7893,
          -84.2693,
          -86.4017,
          22.8579,
          -86.9115,
          -95.0173,
          -93.4611,
          null,
          -90.6772,
          -80.157,
          127.2024,
          -118.5998,
          -94.4837,
          12.401,
          121.214,
          5.0525,
          -80.9394,
          -84.2693,
          114.2968,
          -73.1509,
          114.3879,
          7.7192,
          -76.5051,
          -121.9749,
          -93.34,
          -81.4564,
          -77.4422,
          -71.1828,
          -6.4628,
          null,
          16.4664,
          -76.6486,
          null,
          null,
          -1.8886,
          -85.7443,
          -98.699
         ],
         "marker": {
          "color": "#636efa",
          "symbol": "circle"
         },
         "mode": "markers",
         "name": "Wood",
         "showlegend": true,
         "type": "scattergeo"
        },
        {
         "geo": "geo",
         "hovertemplate": "Type_Main=Other<br>Latitude=%{lat}<br>Longitude=%{lon}<extra></extra>",
         "lat": [
          40.5742,
          43.3207,
          53.7902,
          null,
          32.7557,
          40.1377,
          43.3474,
          null,
          39.3448,
          32.7557,
          32.7557,
          28.3303,
          null,
          39.3421,
          28.0379,
          28.3303,
          53.7902,
          41.0847,
          42.3661,
          38.1965,
          null,
          28.3303,
          50.0019
         ],
         "legendgroup": "Other",
         "lon": [
          -73.9778,
          -2.0107,
          -3.0539,
          null,
          -97.0702,
          -74.4405,
          -86.2789,
          null,
          -84.2686,
          -97.0702,
          -97.0702,
          -81.5147,
          null,
          -84.2674,
          -82.4216,
          -81.5147,
          -3.0539,
          1.1564,
          -87.9311,
          -85.744,
          null,
          -81.5147,
          19.4031
         ],
         "marker": {
          "color": "#EF553B",
          "symbol": "circle"
         },
         "mode": "markers",
         "name": "Other",
         "showlegend": true,
         "type": "scattergeo"
        },
        {
         "geo": "geo",
         "hovertemplate": "Type_Main=Steel<br>Latitude=%{lat}<br>Longitude=%{lon}<extra></extra>",
         "lat": [
          41.6343,
          41.4405,
          null,
          32.7585,
          33.7676,
          41.4847,
          34.424,
          38.5155,
          36.6703,
          null,
          40.2892,
          28.4192,
          41.4836,
          40.9869,
          34.4228,
          40.2864,
          33.811,
          53.7888,
          34.4278,
          41.4863,
          37.2343,
          33.8456,
          null,
          32.7589,
          33.7703,
          53.7899,
          41.4856,
          35.1042,
          44.7996,
          28.0375,
          35.0303,
          43.8445,
          42.9272,
          51.6469,
          43.8427,
          35.0306,
          42.9283,
          51.0875,
          40.9836,
          42.0403,
          43.0613,
          null,
          null,
          51.4052,
          38.9858,
          43.3513,
          40.7903,
          35.0285,
          52.1466,
          45.4567,
          35.2437,
          40.2598,
          51.1993,
          41.4822,
          57.695,
          51.3494,
          51.3494,
          53.7901,
          35.6255,
          50.801,
          59.3231,
          34.4222,
          52.5075,
          null,
          44.7995,
          49.1314,
          41.4853,
          48.131,
          51.1993,
          60.1875,
          32.7564,
          null,
          33.7703,
          51.3473,
          34.4208,
          39.3445,
          37.8392,
          40.2899,
          40.389,
          43.8419,
          37.3967,
          33.5718,
          null,
          null,
          52.9897,
          29.5965,
          35.1036,
          36.1381,
          39.1723,
          37.3981,
          55.2599,
          null,
          28.0397,
          36.6684,
          39.3476,
          52.4404,
          34.8755,
          35.0303,
          52.9869,
          41.479,
          38.1967,
          52.6125,
          53.7892,
          44.8542,
          52.5062,
          41.0875,
          43.8412,
          38.9893,
          33.8458,
          48.8741,
          14.2819,
          38.1941,
          51.6198,
          28.4205,
          50.7987,
          35.4859,
          28.0347,
          41.4826,
          null,
          40.1346,
          28.4205,
          51.4036,
          44.7986,
          37.2328,
          48.2647,
          29.4523,
          41.6423,
          34.3598,
          29.5991,
          36.1019,
          40.5789,
          34.425,
          41.643,
          45.4566,
          38.9892,
          40.2869,
          null,
          39.172,
          52.9866,
          51.3487,
          34.4245,
          10.7605,
          42.3669,
          38.1958,
          40.1852,
          51.6522,
          40.9839,
          35.1011,
          35.1003,
          37.2348,
          40.1382,
          34.4249,
          40.3894,
          33.7703,
          38.9075,
          40.1348,
          38.1189,
          28.4712,
          38.91,
          40.1343,
          53.026,
          43.3474,
          44.7999,
          53.192,
          29.5969,
          42.3658,
          38.1371,
          38.9858,
          29.4553,
          35.793,
          40.4134,
          30.7181,
          40.2925,
          41.4853,
          43.3423,
          28.4739,
          19.2952,
          39.1731,
          42.0371,
          23.6181,
          51.6195,
          34.4269,
          44.3383,
          28.4111,
          60.1878,
          38.1406,
          41.4817,
          42.109,
          10.8607,
          52.4406,
          35.0312,
          42.0386,
          29.5952,
          58.7801,
          52.4428,
          40.5793,
          52.4392,
          38.9103,
          33.8046,
          49.32,
          null,
          33.8063,
          33.8046,
          23.6187,
          51.6246,
          33.8063,
          40.1356,
          40.389,
          43.8424,
          40.579,
          32.7556,
          36.6686,
          null,
          null,
          42.0353,
          40.2282,
          51.4032,
          -27.8639,
          52.9859,
          52.4386,
          53.1922,
          35.1042,
          -27.8639,
          -27.9078,
          48.268,
          40.2277,
          40.2298,
          45.5225,
          50.8002,
          34.421,
          33.8458,
          null,
          -32.097,
          null,
          51.4035,
          34.4286,
          40.9844,
          44.7978,
          30.7196,
          35.7063,
          55.2611,
          59.3231,
          51.3975,
          55.6728,
          51.348,
          44.8542,
          33.7678,
          51.2861,
          33.8444,
          52.9889,
          39.1754,
          42.1081,
          40.2897,
          null,
          38.1941,
          43.8408,
          60.1881,
          51.1997,
          43.234,
          40.9862,
          63.2298,
          40.581,
          40.1392,
          35.6277,
          52.985,
          28.0367,
          48.8741,
          -27.908,
          37.0225,
          23.0044,
          50.7986,
          39.866,
          35.4884,
          39.865,
          33.7692,
          45.5278,
          36.6704,
          39.868,
          54.2117,
          39.1753,
          59.7482,
          51.779,
          51.405,
          34.4219,
          34.5179,
          48.8682,
          51.648,
          52.0544,
          41.0847,
          53.5236,
          37.2344,
          34.6666,
          51.62,
          60.1883,
          59.3226,
          41.4852,
          -27.8628,
          35.7956,
          35.8367,
          51.5325,
          33.845,
          -27.9143,
          40.9839,
          43.839,
          56.1358,
          22.9996,
          40.291,
          39.3476,
          -27.9568,
          null,
          45.4578,
          42.9304,
          41.4228,
          33.8429,
          11.0433,
          60.1872,
          44.8553,
          40.7909,
          35.5838,
          48.2624,
          31.0979,
          54.0744,
          52.1477,
          37.2361,
          28.4749,
          59.3233,
          null,
          28.4119,
          54.209,
          51.4026,
          58.41,
          1.2541,
          1.2534,
          1.255,
          24.4864,
          24.4842,
          51.2531,
          35.1031,
          37.8375,
          40.3864,
          34.6653,
          52.9847,
          52.6108,
          40.8797,
          40.9855,
          28.0342,
          33.7703,
          40.8303,
          -27.9073,
          22.2357,
          53.0247,
          32.7564,
          45.4571,
          31.4975,
          35.4853,
          48.3242,
          42.7962,
          51.6221,
          31.8245,
          52.1472,
          29.2858,
          43.8445,
          32.7671,
          49.1342,
          55.737,
          null,
          38.1386,
          51.4056,
          37.2315,
          35.7947,
          42.3654,
          -32.0955,
          33.845,
          39.1847,
          18.7647,
          28.4662,
          34.4232,
          41.4806,
          null,
          49.0377,
          18.7664,
          57.27,
          52.9872,
          35.7934,
          -27.9563,
          48.2617,
          48.2639,
          39.3457,
          39.3476,
          31.0973,
          35.7947,
          53.0262,
          28.4803,
          57.6953,
          36.1375,
          19.2945,
          22.1016,
          38.1242,
          40.5735,
          43.84,
          null,
          51.6482,
          40.9874,
          35.1055,
          40.8798,
          63.2309,
          40.2935,
          45.4582,
          null,
          1.2545,
          33.8151,
          38.1941,
          37.2347,
          54.0769,
          40.7525,
          34.4278,
          42.0403,
          null,
          null,
          34.6634,
          null,
          null,
          52.4424,
          28.4095,
          41.6518,
          50.6988,
          50.7996,
          50.7996,
          41.4813,
          50.8483,
          -27.908,
          52.6244,
          39.9428,
          null,
          37.3967,
          49.1336,
          null,
          51.6223,
          48.8741,
          29.4553,
          45.4716,
          32.765,
          51.3997,
          33.8448,
          null,
          53.7903,
          40.0287,
          37.3951,
          28.3594,
          41.4862,
          42.9294,
          50.6971,
          36.669,
          null,
          57.6932,
          19.2935,
          29.5951,
          35.1011,
          44.3389,
          35.7977,
          51.1993,
          28.4298,
          null,
          45.62,
          40.8061,
          null,
          38.9894,
          40.3892,
          60.1885,
          28.0379,
          40.8066,
          43.8402,
          40.2863,
          50.7999,
          51.6481,
          46.6718,
          39.3427,
          63.2307,
          40.8056,
          50.849,
          34.4217,
          49.9992,
          41.651,
          40.1377,
          50.6977,
          -48.2617,
          51.7864,
          59.3239,
          50.949,
          47.9065,
          51.081,
          28.4713
         ],
         "legendgroup": "Steel",
         "lon": [
          -80.3165,
          -81.7577,
          null,
          -97.0685,
          -84.5519,
          -82.6904,
          -118.5985,
          -90.6738,
          -93.3407,
          null,
          -76.6535,
          -81.5772,
          -82.6853,
          -111.8936,
          -118.5964,
          -76.6536,
          -117.9174,
          -3.0558,
          -118.5975,
          -82.6897,
          -76.646,
          -117.999,
          null,
          -97.0706,
          -84.5475,
          -3.0551,
          -82.6886,
          -80.9436,
          -93.4563,
          -82.4233,
          136.7308,
          -79.5407,
          -78.3823,
          5.0536,
          -79.5423,
          136.7323,
          -78.3817,
          -114.3594,
          -111.8951,
          -72.6156,
          -79.0804,
          null,
          null,
          -0.5139,
          -74.8097,
          -73.6927,
          -86.7706,
          136.7326,
          4.379,
          10.7072,
          -101.8321,
          -79.2799,
          4.909,
          -82.6852,
          11.9925,
          -0.318,
          -0.318,
          -3.0559,
          139.5181,
          6.878,
          18.0956,
          -118.5983,
          1.7434,
          null,
          -93.462,
          2.5714,
          -82.6861,
          11.549,
          4.909,
          24.9381,
          -97.0731,
          null,
          -84.5522,
          -0.3156,
          -118.5953,
          -84.2648,
          -77.4402,
          -76.6538,
          -79.866,
          -79.5435,
          -121.9732,
          -112.1188,
          null,
          null,
          -1.8856,
          -98.6099,
          -80.9416,
          -115.1664,
          -94.4889,
          -121.9718,
          11.8639,
          null,
          -82.4231,
          -93.3379,
          -84.2652,
          5.7615,
          134.7637,
          136.7347,
          -1.8828,
          -82.6818,
          -85.7476,
          -1.7161,
          -3.0553,
          -93.2422,
          1.7451,
          1.1608,
          -79.539,
          -74.8023,
          -117.9992,
          2.7793,
          121.0954,
          -85.747,
          6.976,
          -81.5784,
          6.8815,
          138.777,
          -82.4175,
          -82.6874,
          null,
          -74.4419,
          -81.5784,
          -0.5132,
          -93.4587,
          -76.6476,
          7.7197,
          -98.6965,
          -72.9226,
          136.845,
          -98.613,
          -115.1736,
          -75.5381,
          -118.598,
          -72.9229,
          10.7137,
          -74.803,
          -76.6531,
          null,
          -94.4906,
          -1.8965,
          -0.3178,
          -118.6006,
          106.6368,
          -87.9311,
          -85.7503,
          -74.8725,
          5.0525,
          -111.8945,
          -80.9388,
          -80.9409,
          -76.6413,
          -74.4323,
          -118.5964,
          -79.8677,
          -84.5506,
          -76.772,
          -74.4397,
          -86.9103,
          -81.4684,
          -76.776,
          -74.4434,
          9.8818,
          -86.2789,
          -93.4591,
          0.347,
          -98.6083,
          -87.9371,
          -122.2345,
          -74.8097,
          -98.6961,
          -83.5279,
          -3.748,
          -83.3243,
          -76.6548,
          -82.689,
          -86.2807,
          -81.4649,
          -99.2065,
          -94.4851,
          -72.6117,
          120.5772,
          6.9765,
          -118.5969,
          12.2668,
          -81.4583,
          24.94,
          -122.2336,
          -82.6881,
          -80.1565,
          106.8044,
          5.7681,
          136.7301,
          -72.6114,
          -98.61,
          5.8405,
          5.7608,
          -75.5326,
          5.7639,
          -76.7786,
          -117.9218,
          8.295,
          null,
          -117.923,
          -117.9218,
          120.5758,
          6.9733,
          -117.923,
          -74.4444,
          -79.866,
          -79.5462,
          -75.53,
          -97.0742,
          -93.3425,
          null,
          null,
          -72.6131,
          -3.5924,
          -0.513,
          153.3169,
          -1.8821,
          5.7614,
          0.3461,
          -80.9428,
          153.3169,
          153.3111,
          7.72,
          -3.5906,
          -3.5961,
          -73.5381,
          6.8777,
          -118.5929,
          -118.0008,
          null,
          115.8181,
          null,
          -0.5164,
          -118.5983,
          -111.895,
          -93.4517,
          -83.3217,
          139.7533,
          11.8634,
          18.0956,
          5.9842,
          12.5703,
          -0.319,
          -93.2422,
          -84.551,
          -3.0089,
          -117.9997,
          -1.8946,
          -94.4879,
          -80.1589,
          -76.6536,
          null,
          -85.747,
          -79.5396,
          24.9381,
          4.9055,
          -77.5429,
          -111.8926,
          22.8587,
          -75.5325,
          -74.4365,
          139.8808,
          -1.8905,
          -82.4244,
          2.7793,
          153.3125,
          -86.4017,
          113.3269,
          6.8803,
          116.4885,
          138.7808,
          116.4846,
          -84.55,
          -73.5363,
          -93.3366,
          116.4874,
          -0.8066,
          -94.4889,
          10.777,
          -4.805,
          -0.5153,
          -118.5975,
          -93.0151,
          2.7777,
          5.0474,
          4.3496,
          1.1564,
          -113.6211,
          -76.6475,
          135.4338,
          6.9725,
          24.94,
          18.0964,
          -82.6925,
          153.3169,
          -83.5301,
          129.28,
          0.7167,
          -117.9986,
          153.3164,
          -111.8956,
          -79.5406,
          10.1979,
          113.3233,
          -76.6552,
          -84.2652,
          153.4261,
          null,
          10.7125,
          -78.3834,
          2.1198,
          -118.0013,
          106.6325,
          24.9392,
          -93.2425,
          -86.7718,
          -97.4405,
          7.7185,
          121.209,
          10.7814,
          4.3792,
          -76.6444,
          -81.4683,
          18.0953,
          null,
          -81.4617,
          -0.808,
          -0.5119,
          13.55,
          103.8223,
          103.824,
          103.8222,
          54.6042,
          54.6124,
          12.3125,
          -80.9394,
          -77.4397,
          -79.8647,
          135.4357,
          -1.8904,
          -1.7134,
          -76.5068,
          -111.8923,
          -82.42,
          -84.5479,
          17.3398,
          153.3136,
          114.1725,
          9.879,
          -97.0731,
          10.7119,
          120.0411,
          138.78,
          6.7295,
          -71.249,
          6.9752,
          119.9955,
          4.3785,
          -94.7895,
          -79.5424,
          -117.228,
          2.5663,
          9.1218,
          null,
          -122.231,
          -0.5154,
          -76.6449,
          -83.5301,
          -87.9338,
          115.817,
          -118.0019,
          117.4686,
          -73.2805,
          -81.4561,
          -118.5972,
          -82.679,
          null,
          9.0544,
          73.28,
          9.6453,
          -1.8953,
          -83.5965,
          153.4258,
          4.6149,
          7.7237,
          -84.2655,
          -84.2652,
          121.2087,
          -83.5301,
          9.8796,
          -81.47,
          11.9908,
          -115.1666,
          -99.2112,
          113.529,
          -86.909,
          -73.9826,
          -79.54,
          null,
          5.0508,
          -111.8955,
          -80.9425,
          -76.5018,
          22.8555,
          -76.6551,
          10.7111,
          null,
          103.8245,
          -117.993,
          -85.747,
          -76.6421,
          10.78,
          -73.4197,
          -118.5975,
          -72.6156,
          null,
          null,
          135.4305,
          null,
          null,
          5.7663,
          -81.4591,
          -93.5014,
          4.5903,
          6.8828,
          6.8828,
          -82.684,
          2.9475,
          153.314,
          6.5619,
          -74.0721,
          null,
          -121.9732,
          2.5737,
          null,
          6.9729,
          2.7793,
          -98.6961,
          -122.6623,
          -117.224,
          5.985,
          -118.0015,
          null,
          -3.0556,
          -76.2186,
          -121.9737,
          -81.5607,
          -82.6933,
          -78.3849,
          4.5871,
          -93.3377,
          null,
          11.9953,
          -99.2058,
          -98.6085,
          -80.9426,
          12.2636,
          -83.5312,
          4.909,
          -81.5859,
          null,
          5.5715,
          -74.0706,
          null,
          -74.8034,
          -79.8665,
          24.9391,
          -82.4249,
          -74.0712,
          -79.543,
          -76.659,
          6.8792,
          5.0474,
          0.3703,
          -84.2627,
          22.8545,
          -74.071,
          2.9475,
          -118.5992,
          19.4011,
          -93.5024,
          -74.4405,
          4.585,
          4.6142,
          -1.155,
          18.0961,
          -1.5505,
          -116.708,
          2.5989,
          -81.472
         ],
         "marker": {
          "color": "#00cc96",
          "symbol": "circle"
         },
         "mode": "markers",
         "name": "Steel",
         "showlegend": true,
         "type": "scattergeo"
        }
       ],
       "layout": {
        "geo": {
         "center": {},
         "domain": {
          "x": [
           0,
           1
          ],
          "y": [
           0,
           1
          ]
         }
        },
        "height": 500,
        "legend": {
         "title": {
          "text": "Type_Main"
         },
         "tracegroupgap": 0
        },
        "template": {
         "data": {
          "bar": [
           {
            "error_x": {
             "color": "#2a3f5f"
            },
            "error_y": {
             "color": "#2a3f5f"
            },
            "marker": {
             "line": {
              "color": "#E5ECF6",
              "width": 0.5
             },
             "pattern": {
              "fillmode": "overlay",
              "size": 10,
              "solidity": 0.2
             }
            },
            "type": "bar"
           }
          ],
          "barpolar": [
           {
            "marker": {
             "line": {
              "color": "#E5ECF6",
              "width": 0.5
             },
             "pattern": {
              "fillmode": "overlay",
              "size": 10,
              "solidity": 0.2
             }
            },
            "type": "barpolar"
           }
          ],
          "carpet": [
           {
            "aaxis": {
             "endlinecolor": "#2a3f5f",
             "gridcolor": "white",
             "linecolor": "white",
             "minorgridcolor": "white",
             "startlinecolor": "#2a3f5f"
            },
            "baxis": {
             "endlinecolor": "#2a3f5f",
             "gridcolor": "white",
             "linecolor": "white",
             "minorgridcolor": "white",
             "startlinecolor": "#2a3f5f"
            },
            "type": "carpet"
           }
          ],
          "choropleth": [
           {
            "colorbar": {
             "outlinewidth": 0,
             "ticks": ""
            },
            "type": "choropleth"
           }
          ],
          "contour": [
           {
            "colorbar": {
             "outlinewidth": 0,
             "ticks": ""
            },
            "colorscale": [
             [
              0,
              "#0d0887"
             ],
             [
              0.1111111111111111,
              "#46039f"
             ],
             [
              0.2222222222222222,
              "#7201a8"
             ],
             [
              0.3333333333333333,
              "#9c179e"
             ],
             [
              0.4444444444444444,
              "#bd3786"
             ],
             [
              0.5555555555555556,
              "#d8576b"
             ],
             [
              0.6666666666666666,
              "#ed7953"
             ],
             [
              0.7777777777777778,
              "#fb9f3a"
             ],
             [
              0.8888888888888888,
              "#fdca26"
             ],
             [
              1,
              "#f0f921"
             ]
            ],
            "type": "contour"
           }
          ],
          "contourcarpet": [
           {
            "colorbar": {
             "outlinewidth": 0,
             "ticks": ""
            },
            "type": "contourcarpet"
           }
          ],
          "heatmap": [
           {
            "colorbar": {
             "outlinewidth": 0,
             "ticks": ""
            },
            "colorscale": [
             [
              0,
              "#0d0887"
             ],
             [
              0.1111111111111111,
              "#46039f"
             ],
             [
              0.2222222222222222,
              "#7201a8"
             ],
             [
              0.3333333333333333,
              "#9c179e"
             ],
             [
              0.4444444444444444,
              "#bd3786"
             ],
             [
              0.5555555555555556,
              "#d8576b"
             ],
             [
              0.6666666666666666,
              "#ed7953"
             ],
             [
              0.7777777777777778,
              "#fb9f3a"
             ],
             [
              0.8888888888888888,
              "#fdca26"
             ],
             [
              1,
              "#f0f921"
             ]
            ],
            "type": "heatmap"
           }
          ],
          "heatmapgl": [
           {
            "colorbar": {
             "outlinewidth": 0,
             "ticks": ""
            },
            "colorscale": [
             [
              0,
              "#0d0887"
             ],
             [
              0.1111111111111111,
              "#46039f"
             ],
             [
              0.2222222222222222,
              "#7201a8"
             ],
             [
              0.3333333333333333,
              "#9c179e"
             ],
             [
              0.4444444444444444,
              "#bd3786"
             ],
             [
              0.5555555555555556,
              "#d8576b"
             ],
             [
              0.6666666666666666,
              "#ed7953"
             ],
             [
              0.7777777777777778,
              "#fb9f3a"
             ],
             [
              0.8888888888888888,
              "#fdca26"
             ],
             [
              1,
              "#f0f921"
             ]
            ],
            "type": "heatmapgl"
           }
          ],
          "histogram": [
           {
            "marker": {
             "pattern": {
              "fillmode": "overlay",
              "size": 10,
              "solidity": 0.2
             }
            },
            "type": "histogram"
           }
          ],
          "histogram2d": [
           {
            "colorbar": {
             "outlinewidth": 0,
             "ticks": ""
            },
            "colorscale": [
             [
              0,
              "#0d0887"
             ],
             [
              0.1111111111111111,
              "#46039f"
             ],
             [
              0.2222222222222222,
              "#7201a8"
             ],
             [
              0.3333333333333333,
              "#9c179e"
             ],
             [
              0.4444444444444444,
              "#bd3786"
             ],
             [
              0.5555555555555556,
              "#d8576b"
             ],
             [
              0.6666666666666666,
              "#ed7953"
             ],
             [
              0.7777777777777778,
              "#fb9f3a"
             ],
             [
              0.8888888888888888,
              "#fdca26"
             ],
             [
              1,
              "#f0f921"
             ]
            ],
            "type": "histogram2d"
           }
          ],
          "histogram2dcontour": [
           {
            "colorbar": {
             "outlinewidth": 0,
             "ticks": ""
            },
            "colorscale": [
             [
              0,
              "#0d0887"
             ],
             [
              0.1111111111111111,
              "#46039f"
             ],
             [
              0.2222222222222222,
              "#7201a8"
             ],
             [
              0.3333333333333333,
              "#9c179e"
             ],
             [
              0.4444444444444444,
              "#bd3786"
             ],
             [
              0.5555555555555556,
              "#d8576b"
             ],
             [
              0.6666666666666666,
              "#ed7953"
             ],
             [
              0.7777777777777778,
              "#fb9f3a"
             ],
             [
              0.8888888888888888,
              "#fdca26"
             ],
             [
              1,
              "#f0f921"
             ]
            ],
            "type": "histogram2dcontour"
           }
          ],
          "mesh3d": [
           {
            "colorbar": {
             "outlinewidth": 0,
             "ticks": ""
            },
            "type": "mesh3d"
           }
          ],
          "parcoords": [
           {
            "line": {
             "colorbar": {
              "outlinewidth": 0,
              "ticks": ""
             }
            },
            "type": "parcoords"
           }
          ],
          "pie": [
           {
            "automargin": true,
            "type": "pie"
           }
          ],
          "scatter": [
           {
            "marker": {
             "colorbar": {
              "outlinewidth": 0,
              "ticks": ""
             }
            },
            "type": "scatter"
           }
          ],
          "scatter3d": [
           {
            "line": {
             "colorbar": {
              "outlinewidth": 0,
              "ticks": ""
             }
            },
            "marker": {
             "colorbar": {
              "outlinewidth": 0,
              "ticks": ""
             }
            },
            "type": "scatter3d"
           }
          ],
          "scattercarpet": [
           {
            "marker": {
             "colorbar": {
              "outlinewidth": 0,
              "ticks": ""
             }
            },
            "type": "scattercarpet"
           }
          ],
          "scattergeo": [
           {
            "marker": {
             "colorbar": {
              "outlinewidth": 0,
              "ticks": ""
             }
            },
            "type": "scattergeo"
           }
          ],
          "scattergl": [
           {
            "marker": {
             "colorbar": {
              "outlinewidth": 0,
              "ticks": ""
             }
            },
            "type": "scattergl"
           }
          ],
          "scattermapbox": [
           {
            "marker": {
             "colorbar": {
              "outlinewidth": 0,
              "ticks": ""
             }
            },
            "type": "scattermapbox"
           }
          ],
          "scatterpolar": [
           {
            "marker": {
             "colorbar": {
              "outlinewidth": 0,
              "ticks": ""
             }
            },
            "type": "scatterpolar"
           }
          ],
          "scatterpolargl": [
           {
            "marker": {
             "colorbar": {
              "outlinewidth": 0,
              "ticks": ""
             }
            },
            "type": "scatterpolargl"
           }
          ],
          "scatterternary": [
           {
            "marker": {
             "colorbar": {
              "outlinewidth": 0,
              "ticks": ""
             }
            },
            "type": "scatterternary"
           }
          ],
          "surface": [
           {
            "colorbar": {
             "outlinewidth": 0,
             "ticks": ""
            },
            "colorscale": [
             [
              0,
              "#0d0887"
             ],
             [
              0.1111111111111111,
              "#46039f"
             ],
             [
              0.2222222222222222,
              "#7201a8"
             ],
             [
              0.3333333333333333,
              "#9c179e"
             ],
             [
              0.4444444444444444,
              "#bd3786"
             ],
             [
              0.5555555555555556,
              "#d8576b"
             ],
             [
              0.6666666666666666,
              "#ed7953"
             ],
             [
              0.7777777777777778,
              "#fb9f3a"
             ],
             [
              0.8888888888888888,
              "#fdca26"
             ],
             [
              1,
              "#f0f921"
             ]
            ],
            "type": "surface"
           }
          ],
          "table": [
           {
            "cells": {
             "fill": {
              "color": "#EBF0F8"
             },
             "line": {
              "color": "white"
             }
            },
            "header": {
             "fill": {
              "color": "#C8D4E3"
             },
             "line": {
              "color": "white"
             }
            },
            "type": "table"
           }
          ]
         },
         "layout": {
          "annotationdefaults": {
           "arrowcolor": "#2a3f5f",
           "arrowhead": 0,
           "arrowwidth": 1
          },
          "autotypenumbers": "strict",
          "coloraxis": {
           "colorbar": {
            "outlinewidth": 0,
            "ticks": ""
           }
          },
          "colorscale": {
           "diverging": [
            [
             0,
             "#8e0152"
            ],
            [
             0.1,
             "#c51b7d"
            ],
            [
             0.2,
             "#de77ae"
            ],
            [
             0.3,
             "#f1b6da"
            ],
            [
             0.4,
             "#fde0ef"
            ],
            [
             0.5,
             "#f7f7f7"
            ],
            [
             0.6,
             "#e6f5d0"
            ],
            [
             0.7,
             "#b8e186"
            ],
            [
             0.8,
             "#7fbc41"
            ],
            [
             0.9,
             "#4d9221"
            ],
            [
             1,
             "#276419"
            ]
           ],
           "sequential": [
            [
             0,
             "#0d0887"
            ],
            [
             0.1111111111111111,
             "#46039f"
            ],
            [
             0.2222222222222222,
             "#7201a8"
            ],
            [
             0.3333333333333333,
             "#9c179e"
            ],
            [
             0.4444444444444444,
             "#bd3786"
            ],
            [
             0.5555555555555556,
             "#d8576b"
            ],
            [
             0.6666666666666666,
             "#ed7953"
            ],
            [
             0.7777777777777778,
             "#fb9f3a"
            ],
            [
             0.8888888888888888,
             "#fdca26"
            ],
            [
             1,
             "#f0f921"
            ]
           ],
           "sequentialminus": [
            [
             0,
             "#0d0887"
            ],
            [
             0.1111111111111111,
             "#46039f"
            ],
            [
             0.2222222222222222,
             "#7201a8"
            ],
            [
             0.3333333333333333,
             "#9c179e"
            ],
            [
             0.4444444444444444,
             "#bd3786"
            ],
            [
             0.5555555555555556,
             "#d8576b"
            ],
            [
             0.6666666666666666,
             "#ed7953"
            ],
            [
             0.7777777777777778,
             "#fb9f3a"
            ],
            [
             0.8888888888888888,
             "#fdca26"
            ],
            [
             1,
             "#f0f921"
            ]
           ]
          },
          "colorway": [
           "#636efa",
           "#EF553B",
           "#00cc96",
           "#ab63fa",
           "#FFA15A",
           "#19d3f3",
           "#FF6692",
           "#B6E880",
           "#FF97FF",
           "#FECB52"
          ],
          "font": {
           "color": "#2a3f5f"
          },
          "geo": {
           "bgcolor": "white",
           "lakecolor": "white",
           "landcolor": "#E5ECF6",
           "showlakes": true,
           "showland": true,
           "subunitcolor": "white"
          },
          "hoverlabel": {
           "align": "left"
          },
          "hovermode": "closest",
          "mapbox": {
           "style": "light"
          },
          "paper_bgcolor": "white",
          "plot_bgcolor": "#E5ECF6",
          "polar": {
           "angularaxis": {
            "gridcolor": "white",
            "linecolor": "white",
            "ticks": ""
           },
           "bgcolor": "#E5ECF6",
           "radialaxis": {
            "gridcolor": "white",
            "linecolor": "white",
            "ticks": ""
           }
          },
          "scene": {
           "xaxis": {
            "backgroundcolor": "#E5ECF6",
            "gridcolor": "white",
            "gridwidth": 2,
            "linecolor": "white",
            "showbackground": true,
            "ticks": "",
            "zerolinecolor": "white"
           },
           "yaxis": {
            "backgroundcolor": "#E5ECF6",
            "gridcolor": "white",
            "gridwidth": 2,
            "linecolor": "white",
            "showbackground": true,
            "ticks": "",
            "zerolinecolor": "white"
           },
           "zaxis": {
            "backgroundcolor": "#E5ECF6",
            "gridcolor": "white",
            "gridwidth": 2,
            "linecolor": "white",
            "showbackground": true,
            "ticks": "",
            "zerolinecolor": "white"
           }
          },
          "shapedefaults": {
           "line": {
            "color": "#2a3f5f"
           }
          },
          "ternary": {
           "aaxis": {
            "gridcolor": "white",
            "linecolor": "white",
            "ticks": ""
           },
           "baxis": {
            "gridcolor": "white",
            "linecolor": "white",
            "ticks": ""
           },
           "bgcolor": "#E5ECF6",
           "caxis": {
            "gridcolor": "white",
            "linecolor": "white",
            "ticks": ""
           }
          },
          "title": {
           "x": 0.05
          },
          "xaxis": {
           "automargin": true,
           "gridcolor": "white",
           "linecolor": "white",
           "ticks": "",
           "title": {
            "standoff": 15
           },
           "zerolinecolor": "white",
           "zerolinewidth": 2
          },
          "yaxis": {
           "automargin": true,
           "gridcolor": "white",
           "linecolor": "white",
           "ticks": "",
           "title": {
            "standoff": 15
           },
           "zerolinecolor": "white",
           "zerolinewidth": 2
          }
         }
        },
        "title": {
         "text": "Rollercoaster Dataset"
        },
        "width": 800
       }
      },
      "text/html": [
       "<div>                            <div id=\"28b87d87-f9da-4020-97d7-db878893e305\" class=\"plotly-graph-div\" style=\"height:500px; width:800px;\"></div>            <script type=\"text/javascript\">                require([\"plotly\"], function(Plotly) {                    window.PLOTLYENV=window.PLOTLYENV || {};                                    if (document.getElementById(\"28b87d87-f9da-4020-97d7-db878893e305\")) {                    Plotly.newPlot(                        \"28b87d87-f9da-4020-97d7-db878893e305\",                        [{\"geo\":\"geo\",\"hovertemplate\":\"Type_Main=Wood<br>Latitude=%{lat}<br>Longitude=%{lon}<extra></extra>\",\"lat\":[null,40.3869,null,40.3867,43.2316,51.3853,40.9849,53.7892,36.9647,40.3889,40.5798,null,40.3869,41.6408,40.9675,42.7953,52.5928,53.7908,40.2602,39.7808,42.0389,40.2864,42.1077,60.1886,40.1544,41.4799,33.6825,null,40.3889,39.3437,39.3432,33.7658,37.8405,37.8371,35.101,44.8006,38.5164,34.5213,41.6515,39.3402,32.7554,39.3432,42.3646,43.8438,43.8392,43.8441,37.8375,45.525,40.8783,37.393,43.3436,39.1728,42.9292,38.1956,33.2617,40.0295,41.6491,43.3514,40.7903,43.3434,43.6161,38.1194,39.7464,42.3681,38.9865,51.7807,43.614,47.9044,null,40.2925,41.0904,49.1314,43.6167,43.5283,33.8426,33.3792,43.3422,51.6242,-23.0987,47.9053,40.8771,38.5161,41.6392,38.1202,40.2929,53.0231,40.7898,59.7472,40.7886,35.143,57.6933,39.802,35.7967,35.101,43.617,39.3432,37.0225,63.2306,38.1213,29.5463,44.8008,null,38.5125,42.1093,37.2898,34.4213,39.1744,50.566,31.0987,51.6469,35.101,39.3432,22.6145,41.5264,30.5912,48.2614,40.8784,37.3967,36.6681,28.4662,37.8405,44.1161,53.5427,null,58.6653,37.2325,null,null,52.9889,38.1943,29.4524],\"legendgroup\":\"Wood\",\"lon\":[null,-79.8619,null,-79.8628,-77.5432,1.3775,-111.8951,-3.0569,-122.0153,-79.865,-75.5355,null,-79.8619,-72.9231,-73.6739,-71.2492,1.7361,-3.0544,-79.2814,-105.054,-72.6133,-76.6556,-80.1568,24.9417,-83.1203,-82.6826,-78.8917,null,-79.865,-84.2647,-84.2693,-84.5514,-77.4422,-77.4449,-80.9394,-93.4578,-90.6761,-93.0143,-93.5025,-84.266,-97.0673,-84.2693,-87.9336,-79.546,-79.5419,-79.5432,-77.4471,-73.5333,-76.5064,-121.9714,-86.2775,-94.4892,-78.3861,-85.7475,131.4281,-76.2173,-93.5006,-73.6851,-86.7706,-86.2809,-89.7897,-86.9152,-105.0144,-87.9372,-74.8107,-4.8056,-89.7898,-116.7094,null,-76.6558,1.1566,2.5739,-89.7892,-70.4312,-117.9981,-86.9969,-86.2761,6.9754,-47.0109,-116.7097,-76.5041,-90.6789,-72.9245,-86.914,-76.6532,9.8833,-86.771,10.7773,-86.77,-106.5884,11.9961,-74.9847,-83.5319,-80.9394,-89.7893,-84.2693,-86.4017,22.8579,-86.9115,-95.0173,-93.4611,null,-90.6772,-80.157,127.2024,-118.5998,-94.4837,12.401,121.214,5.0525,-80.9394,-84.2693,114.2968,-73.1509,114.3879,7.7192,-76.5051,-121.9749,-93.34,-81.4564,-77.4422,-71.1828,-6.4628,null,16.4664,-76.6486,null,null,-1.8886,-85.7443,-98.699],\"marker\":{\"color\":\"#636efa\",\"symbol\":\"circle\"},\"mode\":\"markers\",\"name\":\"Wood\",\"showlegend\":true,\"type\":\"scattergeo\"},{\"geo\":\"geo\",\"hovertemplate\":\"Type_Main=Other<br>Latitude=%{lat}<br>Longitude=%{lon}<extra></extra>\",\"lat\":[40.5742,43.3207,53.7902,null,32.7557,40.1377,43.3474,null,39.3448,32.7557,32.7557,28.3303,null,39.3421,28.0379,28.3303,53.7902,41.0847,42.3661,38.1965,null,28.3303,50.0019],\"legendgroup\":\"Other\",\"lon\":[-73.9778,-2.0107,-3.0539,null,-97.0702,-74.4405,-86.2789,null,-84.2686,-97.0702,-97.0702,-81.5147,null,-84.2674,-82.4216,-81.5147,-3.0539,1.1564,-87.9311,-85.744,null,-81.5147,19.4031],\"marker\":{\"color\":\"#EF553B\",\"symbol\":\"circle\"},\"mode\":\"markers\",\"name\":\"Other\",\"showlegend\":true,\"type\":\"scattergeo\"},{\"geo\":\"geo\",\"hovertemplate\":\"Type_Main=Steel<br>Latitude=%{lat}<br>Longitude=%{lon}<extra></extra>\",\"lat\":[41.6343,41.4405,null,32.7585,33.7676,41.4847,34.424,38.5155,36.6703,null,40.2892,28.4192,41.4836,40.9869,34.4228,40.2864,33.811,53.7888,34.4278,41.4863,37.2343,33.8456,null,32.7589,33.7703,53.7899,41.4856,35.1042,44.7996,28.0375,35.0303,43.8445,42.9272,51.6469,43.8427,35.0306,42.9283,51.0875,40.9836,42.0403,43.0613,null,null,51.4052,38.9858,43.3513,40.7903,35.0285,52.1466,45.4567,35.2437,40.2598,51.1993,41.4822,57.695,51.3494,51.3494,53.7901,35.6255,50.801,59.3231,34.4222,52.5075,null,44.7995,49.1314,41.4853,48.131,51.1993,60.1875,32.7564,null,33.7703,51.3473,34.4208,39.3445,37.8392,40.2899,40.389,43.8419,37.3967,33.5718,null,null,52.9897,29.5965,35.1036,36.1381,39.1723,37.3981,55.2599,null,28.0397,36.6684,39.3476,52.4404,34.8755,35.0303,52.9869,41.479,38.1967,52.6125,53.7892,44.8542,52.5062,41.0875,43.8412,38.9893,33.8458,48.8741,14.2819,38.1941,51.6198,28.4205,50.7987,35.4859,28.0347,41.4826,null,40.1346,28.4205,51.4036,44.7986,37.2328,48.2647,29.4523,41.6423,34.3598,29.5991,36.1019,40.5789,34.425,41.643,45.4566,38.9892,40.2869,null,39.172,52.9866,51.3487,34.4245,10.7605,42.3669,38.1958,40.1852,51.6522,40.9839,35.1011,35.1003,37.2348,40.1382,34.4249,40.3894,33.7703,38.9075,40.1348,38.1189,28.4712,38.91,40.1343,53.026,43.3474,44.7999,53.192,29.5969,42.3658,38.1371,38.9858,29.4553,35.793,40.4134,30.7181,40.2925,41.4853,43.3423,28.4739,19.2952,39.1731,42.0371,23.6181,51.6195,34.4269,44.3383,28.4111,60.1878,38.1406,41.4817,42.109,10.8607,52.4406,35.0312,42.0386,29.5952,58.7801,52.4428,40.5793,52.4392,38.9103,33.8046,49.32,null,33.8063,33.8046,23.6187,51.6246,33.8063,40.1356,40.389,43.8424,40.579,32.7556,36.6686,null,null,42.0353,40.2282,51.4032,-27.8639,52.9859,52.4386,53.1922,35.1042,-27.8639,-27.9078,48.268,40.2277,40.2298,45.5225,50.8002,34.421,33.8458,null,-32.097,null,51.4035,34.4286,40.9844,44.7978,30.7196,35.7063,55.2611,59.3231,51.3975,55.6728,51.348,44.8542,33.7678,51.2861,33.8444,52.9889,39.1754,42.1081,40.2897,null,38.1941,43.8408,60.1881,51.1997,43.234,40.9862,63.2298,40.581,40.1392,35.6277,52.985,28.0367,48.8741,-27.908,37.0225,23.0044,50.7986,39.866,35.4884,39.865,33.7692,45.5278,36.6704,39.868,54.2117,39.1753,59.7482,51.779,51.405,34.4219,34.5179,48.8682,51.648,52.0544,41.0847,53.5236,37.2344,34.6666,51.62,60.1883,59.3226,41.4852,-27.8628,35.7956,35.8367,51.5325,33.845,-27.9143,40.9839,43.839,56.1358,22.9996,40.291,39.3476,-27.9568,null,45.4578,42.9304,41.4228,33.8429,11.0433,60.1872,44.8553,40.7909,35.5838,48.2624,31.0979,54.0744,52.1477,37.2361,28.4749,59.3233,null,28.4119,54.209,51.4026,58.41,1.2541,1.2534,1.255,24.4864,24.4842,51.2531,35.1031,37.8375,40.3864,34.6653,52.9847,52.6108,40.8797,40.9855,28.0342,33.7703,40.8303,-27.9073,22.2357,53.0247,32.7564,45.4571,31.4975,35.4853,48.3242,42.7962,51.6221,31.8245,52.1472,29.2858,43.8445,32.7671,49.1342,55.737,null,38.1386,51.4056,37.2315,35.7947,42.3654,-32.0955,33.845,39.1847,18.7647,28.4662,34.4232,41.4806,null,49.0377,18.7664,57.27,52.9872,35.7934,-27.9563,48.2617,48.2639,39.3457,39.3476,31.0973,35.7947,53.0262,28.4803,57.6953,36.1375,19.2945,22.1016,38.1242,40.5735,43.84,null,51.6482,40.9874,35.1055,40.8798,63.2309,40.2935,45.4582,null,1.2545,33.8151,38.1941,37.2347,54.0769,40.7525,34.4278,42.0403,null,null,34.6634,null,null,52.4424,28.4095,41.6518,50.6988,50.7996,50.7996,41.4813,50.8483,-27.908,52.6244,39.9428,null,37.3967,49.1336,null,51.6223,48.8741,29.4553,45.4716,32.765,51.3997,33.8448,null,53.7903,40.0287,37.3951,28.3594,41.4862,42.9294,50.6971,36.669,null,57.6932,19.2935,29.5951,35.1011,44.3389,35.7977,51.1993,28.4298,null,45.62,40.8061,null,38.9894,40.3892,60.1885,28.0379,40.8066,43.8402,40.2863,50.7999,51.6481,46.6718,39.3427,63.2307,40.8056,50.849,34.4217,49.9992,41.651,40.1377,50.6977,-48.2617,51.7864,59.3239,50.949,47.9065,51.081,28.4713],\"legendgroup\":\"Steel\",\"lon\":[-80.3165,-81.7577,null,-97.0685,-84.5519,-82.6904,-118.5985,-90.6738,-93.3407,null,-76.6535,-81.5772,-82.6853,-111.8936,-118.5964,-76.6536,-117.9174,-3.0558,-118.5975,-82.6897,-76.646,-117.999,null,-97.0706,-84.5475,-3.0551,-82.6886,-80.9436,-93.4563,-82.4233,136.7308,-79.5407,-78.3823,5.0536,-79.5423,136.7323,-78.3817,-114.3594,-111.8951,-72.6156,-79.0804,null,null,-0.5139,-74.8097,-73.6927,-86.7706,136.7326,4.379,10.7072,-101.8321,-79.2799,4.909,-82.6852,11.9925,-0.318,-0.318,-3.0559,139.5181,6.878,18.0956,-118.5983,1.7434,null,-93.462,2.5714,-82.6861,11.549,4.909,24.9381,-97.0731,null,-84.5522,-0.3156,-118.5953,-84.2648,-77.4402,-76.6538,-79.866,-79.5435,-121.9732,-112.1188,null,null,-1.8856,-98.6099,-80.9416,-115.1664,-94.4889,-121.9718,11.8639,null,-82.4231,-93.3379,-84.2652,5.7615,134.7637,136.7347,-1.8828,-82.6818,-85.7476,-1.7161,-3.0553,-93.2422,1.7451,1.1608,-79.539,-74.8023,-117.9992,2.7793,121.0954,-85.747,6.976,-81.5784,6.8815,138.777,-82.4175,-82.6874,null,-74.4419,-81.5784,-0.5132,-93.4587,-76.6476,7.7197,-98.6965,-72.9226,136.845,-98.613,-115.1736,-75.5381,-118.598,-72.9229,10.7137,-74.803,-76.6531,null,-94.4906,-1.8965,-0.3178,-118.6006,106.6368,-87.9311,-85.7503,-74.8725,5.0525,-111.8945,-80.9388,-80.9409,-76.6413,-74.4323,-118.5964,-79.8677,-84.5506,-76.772,-74.4397,-86.9103,-81.4684,-76.776,-74.4434,9.8818,-86.2789,-93.4591,0.347,-98.6083,-87.9371,-122.2345,-74.8097,-98.6961,-83.5279,-3.748,-83.3243,-76.6548,-82.689,-86.2807,-81.4649,-99.2065,-94.4851,-72.6117,120.5772,6.9765,-118.5969,12.2668,-81.4583,24.94,-122.2336,-82.6881,-80.1565,106.8044,5.7681,136.7301,-72.6114,-98.61,5.8405,5.7608,-75.5326,5.7639,-76.7786,-117.9218,8.295,null,-117.923,-117.9218,120.5758,6.9733,-117.923,-74.4444,-79.866,-79.5462,-75.53,-97.0742,-93.3425,null,null,-72.6131,-3.5924,-0.513,153.3169,-1.8821,5.7614,0.3461,-80.9428,153.3169,153.3111,7.72,-3.5906,-3.5961,-73.5381,6.8777,-118.5929,-118.0008,null,115.8181,null,-0.5164,-118.5983,-111.895,-93.4517,-83.3217,139.7533,11.8634,18.0956,5.9842,12.5703,-0.319,-93.2422,-84.551,-3.0089,-117.9997,-1.8946,-94.4879,-80.1589,-76.6536,null,-85.747,-79.5396,24.9381,4.9055,-77.5429,-111.8926,22.8587,-75.5325,-74.4365,139.8808,-1.8905,-82.4244,2.7793,153.3125,-86.4017,113.3269,6.8803,116.4885,138.7808,116.4846,-84.55,-73.5363,-93.3366,116.4874,-0.8066,-94.4889,10.777,-4.805,-0.5153,-118.5975,-93.0151,2.7777,5.0474,4.3496,1.1564,-113.6211,-76.6475,135.4338,6.9725,24.94,18.0964,-82.6925,153.3169,-83.5301,129.28,0.7167,-117.9986,153.3164,-111.8956,-79.5406,10.1979,113.3233,-76.6552,-84.2652,153.4261,null,10.7125,-78.3834,2.1198,-118.0013,106.6325,24.9392,-93.2425,-86.7718,-97.4405,7.7185,121.209,10.7814,4.3792,-76.6444,-81.4683,18.0953,null,-81.4617,-0.808,-0.5119,13.55,103.8223,103.824,103.8222,54.6042,54.6124,12.3125,-80.9394,-77.4397,-79.8647,135.4357,-1.8904,-1.7134,-76.5068,-111.8923,-82.42,-84.5479,17.3398,153.3136,114.1725,9.879,-97.0731,10.7119,120.0411,138.78,6.7295,-71.249,6.9752,119.9955,4.3785,-94.7895,-79.5424,-117.228,2.5663,9.1218,null,-122.231,-0.5154,-76.6449,-83.5301,-87.9338,115.817,-118.0019,117.4686,-73.2805,-81.4561,-118.5972,-82.679,null,9.0544,73.28,9.6453,-1.8953,-83.5965,153.4258,4.6149,7.7237,-84.2655,-84.2652,121.2087,-83.5301,9.8796,-81.47,11.9908,-115.1666,-99.2112,113.529,-86.909,-73.9826,-79.54,null,5.0508,-111.8955,-80.9425,-76.5018,22.8555,-76.6551,10.7111,null,103.8245,-117.993,-85.747,-76.6421,10.78,-73.4197,-118.5975,-72.6156,null,null,135.4305,null,null,5.7663,-81.4591,-93.5014,4.5903,6.8828,6.8828,-82.684,2.9475,153.314,6.5619,-74.0721,null,-121.9732,2.5737,null,6.9729,2.7793,-98.6961,-122.6623,-117.224,5.985,-118.0015,null,-3.0556,-76.2186,-121.9737,-81.5607,-82.6933,-78.3849,4.5871,-93.3377,null,11.9953,-99.2058,-98.6085,-80.9426,12.2636,-83.5312,4.909,-81.5859,null,5.5715,-74.0706,null,-74.8034,-79.8665,24.9391,-82.4249,-74.0712,-79.543,-76.659,6.8792,5.0474,0.3703,-84.2627,22.8545,-74.071,2.9475,-118.5992,19.4011,-93.5024,-74.4405,4.585,4.6142,-1.155,18.0961,-1.5505,-116.708,2.5989,-81.472],\"marker\":{\"color\":\"#00cc96\",\"symbol\":\"circle\"},\"mode\":\"markers\",\"name\":\"Steel\",\"showlegend\":true,\"type\":\"scattergeo\"}],                        {\"template\":{\"data\":{\"bar\":[{\"error_x\":{\"color\":\"#2a3f5f\"},\"error_y\":{\"color\":\"#2a3f5f\"},\"marker\":{\"line\":{\"color\":\"#E5ECF6\",\"width\":0.5},\"pattern\":{\"fillmode\":\"overlay\",\"size\":10,\"solidity\":0.2}},\"type\":\"bar\"}],\"barpolar\":[{\"marker\":{\"line\":{\"color\":\"#E5ECF6\",\"width\":0.5},\"pattern\":{\"fillmode\":\"overlay\",\"size\":10,\"solidity\":0.2}},\"type\":\"barpolar\"}],\"carpet\":[{\"aaxis\":{\"endlinecolor\":\"#2a3f5f\",\"gridcolor\":\"white\",\"linecolor\":\"white\",\"minorgridcolor\":\"white\",\"startlinecolor\":\"#2a3f5f\"},\"baxis\":{\"endlinecolor\":\"#2a3f5f\",\"gridcolor\":\"white\",\"linecolor\":\"white\",\"minorgridcolor\":\"white\",\"startlinecolor\":\"#2a3f5f\"},\"type\":\"carpet\"}],\"choropleth\":[{\"colorbar\":{\"outlinewidth\":0,\"ticks\":\"\"},\"type\":\"choropleth\"}],\"contour\":[{\"colorbar\":{\"outlinewidth\":0,\"ticks\":\"\"},\"colorscale\":[[0.0,\"#0d0887\"],[0.1111111111111111,\"#46039f\"],[0.2222222222222222,\"#7201a8\"],[0.3333333333333333,\"#9c179e\"],[0.4444444444444444,\"#bd3786\"],[0.5555555555555556,\"#d8576b\"],[0.6666666666666666,\"#ed7953\"],[0.7777777777777778,\"#fb9f3a\"],[0.8888888888888888,\"#fdca26\"],[1.0,\"#f0f921\"]],\"type\":\"contour\"}],\"contourcarpet\":[{\"colorbar\":{\"outlinewidth\":0,\"ticks\":\"\"},\"type\":\"contourcarpet\"}],\"heatmap\":[{\"colorbar\":{\"outlinewidth\":0,\"ticks\":\"\"},\"colorscale\":[[0.0,\"#0d0887\"],[0.1111111111111111,\"#46039f\"],[0.2222222222222222,\"#7201a8\"],[0.3333333333333333,\"#9c179e\"],[0.4444444444444444,\"#bd3786\"],[0.5555555555555556,\"#d8576b\"],[0.6666666666666666,\"#ed7953\"],[0.7777777777777778,\"#fb9f3a\"],[0.8888888888888888,\"#fdca26\"],[1.0,\"#f0f921\"]],\"type\":\"heatmap\"}],\"heatmapgl\":[{\"colorbar\":{\"outlinewidth\":0,\"ticks\":\"\"},\"colorscale\":[[0.0,\"#0d0887\"],[0.1111111111111111,\"#46039f\"],[0.2222222222222222,\"#7201a8\"],[0.3333333333333333,\"#9c179e\"],[0.4444444444444444,\"#bd3786\"],[0.5555555555555556,\"#d8576b\"],[0.6666666666666666,\"#ed7953\"],[0.7777777777777778,\"#fb9f3a\"],[0.8888888888888888,\"#fdca26\"],[1.0,\"#f0f921\"]],\"type\":\"heatmapgl\"}],\"histogram\":[{\"marker\":{\"pattern\":{\"fillmode\":\"overlay\",\"size\":10,\"solidity\":0.2}},\"type\":\"histogram\"}],\"histogram2d\":[{\"colorbar\":{\"outlinewidth\":0,\"ticks\":\"\"},\"colorscale\":[[0.0,\"#0d0887\"],[0.1111111111111111,\"#46039f\"],[0.2222222222222222,\"#7201a8\"],[0.3333333333333333,\"#9c179e\"],[0.4444444444444444,\"#bd3786\"],[0.5555555555555556,\"#d8576b\"],[0.6666666666666666,\"#ed7953\"],[0.7777777777777778,\"#fb9f3a\"],[0.8888888888888888,\"#fdca26\"],[1.0,\"#f0f921\"]],\"type\":\"histogram2d\"}],\"histogram2dcontour\":[{\"colorbar\":{\"outlinewidth\":0,\"ticks\":\"\"},\"colorscale\":[[0.0,\"#0d0887\"],[0.1111111111111111,\"#46039f\"],[0.2222222222222222,\"#7201a8\"],[0.3333333333333333,\"#9c179e\"],[0.4444444444444444,\"#bd3786\"],[0.5555555555555556,\"#d8576b\"],[0.6666666666666666,\"#ed7953\"],[0.7777777777777778,\"#fb9f3a\"],[0.8888888888888888,\"#fdca26\"],[1.0,\"#f0f921\"]],\"type\":\"histogram2dcontour\"}],\"mesh3d\":[{\"colorbar\":{\"outlinewidth\":0,\"ticks\":\"\"},\"type\":\"mesh3d\"}],\"parcoords\":[{\"line\":{\"colorbar\":{\"outlinewidth\":0,\"ticks\":\"\"}},\"type\":\"parcoords\"}],\"pie\":[{\"automargin\":true,\"type\":\"pie\"}],\"scatter\":[{\"marker\":{\"colorbar\":{\"outlinewidth\":0,\"ticks\":\"\"}},\"type\":\"scatter\"}],\"scatter3d\":[{\"line\":{\"colorbar\":{\"outlinewidth\":0,\"ticks\":\"\"}},\"marker\":{\"colorbar\":{\"outlinewidth\":0,\"ticks\":\"\"}},\"type\":\"scatter3d\"}],\"scattercarpet\":[{\"marker\":{\"colorbar\":{\"outlinewidth\":0,\"ticks\":\"\"}},\"type\":\"scattercarpet\"}],\"scattergeo\":[{\"marker\":{\"colorbar\":{\"outlinewidth\":0,\"ticks\":\"\"}},\"type\":\"scattergeo\"}],\"scattergl\":[{\"marker\":{\"colorbar\":{\"outlinewidth\":0,\"ticks\":\"\"}},\"type\":\"scattergl\"}],\"scattermapbox\":[{\"marker\":{\"colorbar\":{\"outlinewidth\":0,\"ticks\":\"\"}},\"type\":\"scattermapbox\"}],\"scatterpolar\":[{\"marker\":{\"colorbar\":{\"outlinewidth\":0,\"ticks\":\"\"}},\"type\":\"scatterpolar\"}],\"scatterpolargl\":[{\"marker\":{\"colorbar\":{\"outlinewidth\":0,\"ticks\":\"\"}},\"type\":\"scatterpolargl\"}],\"scatterternary\":[{\"marker\":{\"colorbar\":{\"outlinewidth\":0,\"ticks\":\"\"}},\"type\":\"scatterternary\"}],\"surface\":[{\"colorbar\":{\"outlinewidth\":0,\"ticks\":\"\"},\"colorscale\":[[0.0,\"#0d0887\"],[0.1111111111111111,\"#46039f\"],[0.2222222222222222,\"#7201a8\"],[0.3333333333333333,\"#9c179e\"],[0.4444444444444444,\"#bd3786\"],[0.5555555555555556,\"#d8576b\"],[0.6666666666666666,\"#ed7953\"],[0.7777777777777778,\"#fb9f3a\"],[0.8888888888888888,\"#fdca26\"],[1.0,\"#f0f921\"]],\"type\":\"surface\"}],\"table\":[{\"cells\":{\"fill\":{\"color\":\"#EBF0F8\"},\"line\":{\"color\":\"white\"}},\"header\":{\"fill\":{\"color\":\"#C8D4E3\"},\"line\":{\"color\":\"white\"}},\"type\":\"table\"}]},\"layout\":{\"annotationdefaults\":{\"arrowcolor\":\"#2a3f5f\",\"arrowhead\":0,\"arrowwidth\":1},\"autotypenumbers\":\"strict\",\"coloraxis\":{\"colorbar\":{\"outlinewidth\":0,\"ticks\":\"\"}},\"colorscale\":{\"diverging\":[[0,\"#8e0152\"],[0.1,\"#c51b7d\"],[0.2,\"#de77ae\"],[0.3,\"#f1b6da\"],[0.4,\"#fde0ef\"],[0.5,\"#f7f7f7\"],[0.6,\"#e6f5d0\"],[0.7,\"#b8e186\"],[0.8,\"#7fbc41\"],[0.9,\"#4d9221\"],[1,\"#276419\"]],\"sequential\":[[0.0,\"#0d0887\"],[0.1111111111111111,\"#46039f\"],[0.2222222222222222,\"#7201a8\"],[0.3333333333333333,\"#9c179e\"],[0.4444444444444444,\"#bd3786\"],[0.5555555555555556,\"#d8576b\"],[0.6666666666666666,\"#ed7953\"],[0.7777777777777778,\"#fb9f3a\"],[0.8888888888888888,\"#fdca26\"],[1.0,\"#f0f921\"]],\"sequentialminus\":[[0.0,\"#0d0887\"],[0.1111111111111111,\"#46039f\"],[0.2222222222222222,\"#7201a8\"],[0.3333333333333333,\"#9c179e\"],[0.4444444444444444,\"#bd3786\"],[0.5555555555555556,\"#d8576b\"],[0.6666666666666666,\"#ed7953\"],[0.7777777777777778,\"#fb9f3a\"],[0.8888888888888888,\"#fdca26\"],[1.0,\"#f0f921\"]]},\"colorway\":[\"#636efa\",\"#EF553B\",\"#00cc96\",\"#ab63fa\",\"#FFA15A\",\"#19d3f3\",\"#FF6692\",\"#B6E880\",\"#FF97FF\",\"#FECB52\"],\"font\":{\"color\":\"#2a3f5f\"},\"geo\":{\"bgcolor\":\"white\",\"lakecolor\":\"white\",\"landcolor\":\"#E5ECF6\",\"showlakes\":true,\"showland\":true,\"subunitcolor\":\"white\"},\"hoverlabel\":{\"align\":\"left\"},\"hovermode\":\"closest\",\"mapbox\":{\"style\":\"light\"},\"paper_bgcolor\":\"white\",\"plot_bgcolor\":\"#E5ECF6\",\"polar\":{\"angularaxis\":{\"gridcolor\":\"white\",\"linecolor\":\"white\",\"ticks\":\"\"},\"bgcolor\":\"#E5ECF6\",\"radialaxis\":{\"gridcolor\":\"white\",\"linecolor\":\"white\",\"ticks\":\"\"}},\"scene\":{\"xaxis\":{\"backgroundcolor\":\"#E5ECF6\",\"gridcolor\":\"white\",\"gridwidth\":2,\"linecolor\":\"white\",\"showbackground\":true,\"ticks\":\"\",\"zerolinecolor\":\"white\"},\"yaxis\":{\"backgroundcolor\":\"#E5ECF6\",\"gridcolor\":\"white\",\"gridwidth\":2,\"linecolor\":\"white\",\"showbackground\":true,\"ticks\":\"\",\"zerolinecolor\":\"white\"},\"zaxis\":{\"backgroundcolor\":\"#E5ECF6\",\"gridcolor\":\"white\",\"gridwidth\":2,\"linecolor\":\"white\",\"showbackground\":true,\"ticks\":\"\",\"zerolinecolor\":\"white\"}},\"shapedefaults\":{\"line\":{\"color\":\"#2a3f5f\"}},\"ternary\":{\"aaxis\":{\"gridcolor\":\"white\",\"linecolor\":\"white\",\"ticks\":\"\"},\"baxis\":{\"gridcolor\":\"white\",\"linecolor\":\"white\",\"ticks\":\"\"},\"bgcolor\":\"#E5ECF6\",\"caxis\":{\"gridcolor\":\"white\",\"linecolor\":\"white\",\"ticks\":\"\"}},\"title\":{\"x\":0.05},\"xaxis\":{\"automargin\":true,\"gridcolor\":\"white\",\"linecolor\":\"white\",\"ticks\":\"\",\"title\":{\"standoff\":15},\"zerolinecolor\":\"white\",\"zerolinewidth\":2},\"yaxis\":{\"automargin\":true,\"gridcolor\":\"white\",\"linecolor\":\"white\",\"ticks\":\"\",\"title\":{\"standoff\":15},\"zerolinecolor\":\"white\",\"zerolinewidth\":2}}},\"geo\":{\"domain\":{\"x\":[0.0,1.0],\"y\":[0.0,1.0]},\"center\":{}},\"legend\":{\"title\":{\"text\":\"Type_Main\"},\"tracegroupgap\":0},\"title\":{\"text\":\"Rollercoaster Dataset\"},\"height\":500,\"width\":800},                        {\"responsive\": true}                    ).then(function(){\n",
       "                            \n",
       "var gd = document.getElementById('28b87d87-f9da-4020-97d7-db878893e305');\n",
       "var x = new MutationObserver(function (mutations, observer) {{\n",
       "        var display = window.getComputedStyle(gd).display;\n",
       "        if (!display || display === 'none') {{\n",
       "            console.log([gd, 'removed!']);\n",
       "            Plotly.purge(gd);\n",
       "            observer.disconnect();\n",
       "        }}\n",
       "}});\n",
       "\n",
       "// Listen for the removal of the full notebook cells\n",
       "var notebookContainer = gd.closest('#notebook-container');\n",
       "if (notebookContainer) {{\n",
       "    x.observe(notebookContainer, {childList: true});\n",
       "}}\n",
       "\n",
       "// Listen for the clearing of the current output cell\n",
       "var outputEl = gd.closest('.output');\n",
       "if (outputEl) {{\n",
       "    x.observe(outputEl, {childList: true});\n",
       "}}\n",
       "\n",
       "                        })                };                });            </script>        </div>"
      ]
     },
     "metadata": {},
     "output_type": "display_data"
    }
   ],
   "source": [
    "#distiribution of the rollercoaster locations on the world map.\n",
    "fig = px.scatter_geo(\n",
    "    df,\n",
    "    lat=\"Latitude\",\n",
    "    lon=\"Longitude\",\n",
    "    color=\"Type_Main\",\n",
    "    width=800,\n",
    "    height=500,\n",
    "    title=\"Rollercoaster Dataset\",\n",
    ")\n",
    "fig.show()"
   ]
  }
 ],
 "metadata": {
  "kernelspec": {
   "display_name": "Python 3 (ipykernel)",
   "language": "python",
   "name": "python3"
  },
  "language_info": {
   "codemirror_mode": {
    "name": "ipython",
    "version": 3
   },
   "file_extension": ".py",
   "mimetype": "text/x-python",
   "name": "python",
   "nbconvert_exporter": "python",
   "pygments_lexer": "ipython3",
   "version": "3.9.12"
  }
 },
 "nbformat": 4,
 "nbformat_minor": 5
}
